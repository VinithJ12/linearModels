{
  "nbformat": 4,
  "nbformat_minor": 0,
  "metadata": {
    "colab": {
      "private_outputs": true,
      "provenance": []
    },
    "kernelspec": {
      "name": "python3",
      "display_name": "Python 3"
    },
    "language_info": {
      "name": "python"
    }
  },
  "cells": [
    {
      "cell_type": "code",
      "execution_count": null,
      "metadata": {
        "id": "9ampFfqDMDj_"
      },
      "outputs": [],
      "source": [
        "import pandas as pd\n",
        "import numpy as np\n",
        "import matplotlib.pyplot as plt\n",
        "import seaborn as sns"
      ]
    },
    {
      "cell_type": "code",
      "source": [
        "df= pd.read_csv('cars_hw.csv')\n",
        "df.head()"
      ],
      "metadata": {
        "id": "kdXj5-4vM0z7"
      },
      "execution_count": null,
      "outputs": []
    },
    {
      "cell_type": "code",
      "source": [
        "df.info()"
      ],
      "metadata": {
        "id": "UGT1rWIvNHZ5"
      },
      "execution_count": null,
      "outputs": []
    },
    {
      "cell_type": "code",
      "source": [
        "df.describe()"
      ],
      "metadata": {
        "id": "sfly7eHjNJ__"
      },
      "execution_count": null,
      "outputs": []
    },
    {
      "cell_type": "code",
      "source": [
        "df.isnull().sum() # no null"
      ],
      "metadata": {
        "id": "dOEtOY-tNNly"
      },
      "execution_count": null,
      "outputs": []
    },
    {
      "cell_type": "code",
      "source": [
        "df.value_counts()"
      ],
      "metadata": {
        "id": "zgRC1l8WNQ-S"
      },
      "execution_count": null,
      "outputs": []
    },
    {
      "cell_type": "code",
      "source": [
        "df.drop(columns=[\"Unnamed: 0\"], inplace=True)\n",
        "df.head()"
      ],
      "metadata": {
        "id": "q7NBDgNSLFGu"
      },
      "execution_count": null,
      "outputs": []
    },
    {
      "cell_type": "code",
      "source": [
        "make_c= df['Make'].value_counts()"
      ],
      "metadata": {
        "id": "GjlRDaWX09Ra"
      },
      "execution_count": null,
      "outputs": []
    },
    {
      "cell_type": "code",
      "source": [
        "make_c.plot(kind= 'barh', x='Car Make', y='Frequnecy', legend= False, color= 'blue')"
      ],
      "metadata": {
        "id": "F4pqYWJrzeua"
      },
      "execution_count": null,
      "outputs": []
    },
    {
      "cell_type": "code",
      "source": [
        "df['Price'].value_counts()"
      ],
      "metadata": {
        "id": "C44voBcr1tPf"
      },
      "execution_count": null,
      "outputs": []
    },
    {
      "cell_type": "code",
      "source": [
        "plt.figure(figsize=(6, 5))\n",
        "df['Price'].plot(kind='hist', bins=20, color='blue', edgecolor='black')\n",
        "\n",
        "plt.title('Distribution of Car Prices')\n",
        "plt.xlabel('Price')\n",
        "plt.ylabel('Frequency')\n",
        "\n",
        "import matplotlib.ticker as ticker\n",
        "plt.gca().xaxis.set_major_formatter(ticker.StrMethodFormatter('${x:,.0f}'))\n",
        "\n",
        "plt.tight_layout()\n",
        "plt.show()\n"
      ],
      "metadata": {
        "id": "jA708sWj1hq5"
      },
      "execution_count": null,
      "outputs": []
    },
    {
      "cell_type": "code",
      "source": [
        "owner_counts = df.groupby(['Make', 'No_of_Owners']).size().unstack(fill_value=0)\n",
        "owner_counts.plot(kind='bar', stacked=True, figsize=(10, 6))\n",
        "plt.title('Number of Owners per Car Make')\n",
        "plt.xlabel('Car Make')\n",
        "plt.ylabel('Number of Cars')\n",
        "plt.legend(title='Number of Owners')\n",
        "plt.xticks(rotation=45)\n",
        "plt.tight_layout()\n",
        "plt.show()\n"
      ],
      "metadata": {
        "id": "AxUKKGgt5mDW"
      },
      "execution_count": null,
      "outputs": []
    },
    {
      "cell_type": "code",
      "source": [
        "# Distribution of Mileage_Run\n",
        "plt.figure(figsize=(8, 5))\n",
        "sns.histplot(df[\"Mileage_Run\"], bins=30, kde=True)\n",
        "plt.title(\"Distribution of Mileage Run\")\n",
        "plt.xlabel(\"Mileage Run (in km)\")\n",
        "plt.ylabel(\"Frequency\")\n",
        "plt.grid(False)\n",
        "plt.tight_layout()\n",
        "plt.show()"
      ],
      "metadata": {
        "id": "3MZRIsX78gZz"
      },
      "execution_count": null,
      "outputs": []
    },
    {
      "cell_type": "markdown",
      "source": [
        "This shows that Mileage Run is right-skewed ( many cara under 60,000 km)"
      ],
      "metadata": {
        "id": "IPQ0xPS2Aexl"
      }
    },
    {
      "cell_type": "code",
      "source": [
        "from sklearn.model_selection import train_test_split"
      ],
      "metadata": {
        "id": "3VKFX8EVBG_g"
      },
      "execution_count": null,
      "outputs": []
    },
    {
      "cell_type": "code",
      "source": [
        "df_encoded = pd.get_dummies(df, drop_first=True)\n",
        "X = df_encoded.drop(columns=[\"Price\"])\n",
        "y = df_encoded[\"Price\"]\n",
        "\n",
        "X_train, X_test, y_train, y_test = train_test_split(X, y, test_size=0.2, random_state=42)\n",
        "X_train.shape, X_test.shape, y_train.shape, y_test.shape"
      ],
      "metadata": {
        "id": "OurLP29oFKsa"
      },
      "execution_count": null,
      "outputs": []
    },
    {
      "cell_type": "code",
      "source": [
        "from sklearn.linear_model import LinearRegression\n",
        "from sklearn.metrics import mean_squared_error\n",
        "from math import sqrt\n",
        "\n",
        "# model\n",
        "model = LinearRegression()\n",
        "\n",
        "#fitting\n",
        "model.fit(X_train, y_train)\n",
        "\n",
        "#predicting\n",
        "y_train_pred = model.predict(X_train)\n",
        "y_test_pred = model.predict(X_test)\n",
        "\n",
        "#error\n",
        "rmse_train = sqrt(mean_squared_error(y_train, y_train_pred))\n",
        "rmse_test = sqrt(mean_squared_error(y_test, y_test_pred))\n",
        "\n",
        "print(f\"Training RMSE: {rmse_train}\")\n",
        "print(f\"Test RMSE: {rmse_test}\")\n"
      ],
      "metadata": {
        "id": "a-ZJ3B3JFanw"
      },
      "execution_count": null,
      "outputs": []
    },
    {
      "cell_type": "code",
      "source": [
        "# Partial correlation plot for numeric variables\n",
        "sns.pairplot(df_encoded, vars=['Mileage_Run', 'Make_Year', 'Seating_Capacity', 'Price'])\n",
        "plt.show()\n"
      ],
      "metadata": {
        "id": "mhJrVTEIFp9q"
      },
      "execution_count": null,
      "outputs": []
    },
    {
      "cell_type": "markdown",
      "source": [
        "Some of them do show unique relationships like seating capcity and price. But the graphs, in general do look weired ( maybe I messed up somewhere)."
      ],
      "metadata": {
        "id": "EkdWlrdhGsn6"
      }
    },
    {
      "cell_type": "code",
      "source": [
        "from sklearn.preprocessing import PolynomialFeatures\n",
        "\n",
        "poly = PolynomialFeatures(degree=2, include_bias=False)\n",
        "X_poly = poly.fit_transform(X_train)\n",
        "\n",
        "model_poly = LinearRegression()\n",
        "model_poly.fit(X_poly, y_train)\n",
        "\n",
        "y_train_pred_poly = model_poly.predict(poly.transform(X_train))\n",
        "y_test_pred_poly = model_poly.predict(poly.transform(X_test))\n",
        "\n",
        "rmse_train_poly = sqrt(mean_squared_error(y_train, y_train_pred_poly))\n",
        "rmse_test_poly = sqrt(mean_squared_error(y_test, y_test_pred_poly))\n",
        "\n",
        "print(f\"Polynomial Training RMSE: {rmse_train_poly}\")\n",
        "print(f\"Polynomial Test RMSE: {rmse_test_poly}\")\n"
      ],
      "metadata": {
        "id": "8edYfLg0HFMR"
      },
      "execution_count": null,
      "outputs": []
    },
    {
      "cell_type": "markdown",
      "source": [
        "It seems to me that the simple model type had close training and test RMSE ( which indicates good generlization), while complx model type had 77k for training rmse and 737k for test RMSE ( which tell us it's overfitting)- memorizing the training data rather than learning a pattern."
      ],
      "metadata": {
        "id": "HqQQtpqVO6Tr"
      }
    },
    {
      "cell_type": "markdown",
      "source": [
        "After cleaning and performing EDA, I noticed that price and mile's run distributions had a right skewed data. I then one hot encoded our categorical varaibles ( eaiser to ingest for our model). Then I used those numerical numbers on the linear regression and complex regression where I noticed the pattern ( I explained above)."
      ],
      "metadata": {
        "id": "TTVarjBHPcd-"
      }
    }
  ]
}