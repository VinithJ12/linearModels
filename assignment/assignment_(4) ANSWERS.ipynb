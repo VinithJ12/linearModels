{
  "cells": [
    {
      "cell_type": "markdown",
      "id": "e0c7b14a-e5aa-4abc-b48b-b8a9d20dacac",
      "metadata": {
        "id": "e0c7b14a-e5aa-4abc-b48b-b8a9d20dacac"
      },
      "source": [
        "# Assignment: Linear Models\n",
        "## Do three questions.\n",
        "### `! git clone https://github.com/ds4e/linearModels`"
      ]
    },
    {
      "cell_type": "code",
      "source": [
        "! git clone https://github.com/ds4e/linearModels"
      ],
      "metadata": {
        "colab": {
          "base_uri": "https://localhost:8080/"
        },
        "id": "kZ78A4wTVjeN",
        "outputId": "9c06e1c7-cdc4-4ece-9bf6-7d3c7e84e2cb"
      },
      "id": "kZ78A4wTVjeN",
      "execution_count": 1,
      "outputs": [
        {
          "output_type": "stream",
          "name": "stdout",
          "text": [
            "Cloning into 'linearModels'...\n",
            "remote: Enumerating objects: 43, done.\u001b[K\n",
            "remote: Counting objects: 100% (8/8), done.\u001b[K\n",
            "remote: Compressing objects: 100% (4/4), done.\u001b[K\n",
            "remote: Total 43 (delta 5), reused 4 (delta 4), pack-reused 35 (from 2)\u001b[K\n",
            "Receiving objects: 100% (43/43), 4.12 MiB | 4.12 MiB/s, done.\n",
            "Resolving deltas: 100% (8/8), done.\n"
          ]
        }
      ]
    },
    {
      "cell_type": "markdown",
      "id": "bf4826b0",
      "metadata": {
        "id": "bf4826b0"
      },
      "source": [
        "**Q1.** Please answer the following questions in your own words.\n",
        "\n",
        "1. What makes a model \"linear\"? \"Linear\" in what?\n",
        "2. How do you interpret the coefficient for a dummy/one-hot-encoded variable? (This is a trick question, and the trick involves how you handle the intercept of the model.)\n",
        "3. Can linear regression be used for classification? Explain why, or why not.\n",
        "4. What are signs that your linear model is over-fitting?\n",
        "5. Clearly explain multi-colinearity using the two-stage least squares technique.\n",
        "6. How can you incorporate nonlinear relationships between your target/response/dependent/outcome variable $y$ and your features/control/response/independent variables $x$ into your analysis?\n",
        "7. What is the interpretation of the intercept? A slope coefficient for a variable? The coefficient for a dummy/one-hot-encoded variable?"
      ]
    },
    {
      "cell_type": "markdown",
      "source": [
        "ANSWER"
      ],
      "metadata": {
        "id": "_iuuod9XVfSR"
      },
      "id": "_iuuod9XVfSR"
    },
    {
      "cell_type": "markdown",
      "source": [
        "1. Linear is describing the the pattern/ trend of the relationship of two variables. This describes how the independent and dependent variables are related and a constant rate of change ( which means the slope is constant) between the two variables. Linear in relationship ( meaing strong relationship between the two variables)\n",
        "   \n",
        "2. If you keep the intercept, the coefficeints represents the difference of baseline which if you remove the intercept, the coefficent represents distinct values of the dummy variable and not the difference from the baseline.\n",
        "   \n",
        "3. Not really, classification involves discrete variables and linear regression is used for continous variables.Linear regression is used for predicting continous variables. It may be hard to transfer between those data types/\n",
        "   \n",
        "4. Overfitting is when the model is too specific and targeted towards features making them not generalizable. Some signs are having a high correlation but training data performance is low and having high variance\n",
        "   \n",
        "5. Multi-colinearity happens when independent varaibles in a model are highly correlated with each other- causing difficulty in detemrining isolated effects on y. The 2SLS technique address this problem by\n",
        "   *stage 1: identifying the instrument variable that is correlated with the predictor and IV supports efforts in creating a new variable\n",
        "   *stage 2: this uses values that the above model got and replace the actual values of the problematic predictors- helps isolate the effect.\n",
        "\n",
        "6. You can incorporate nonlinear relationships by using switching to a different model like neural networks or polynomial regression or use interactions to have combined effects of multiple features\n",
        "   \n",
        "7. Intercept is the values you get when x value is 0, slope coefficent is the rate of change ( in y for one unit increase) and dummy variable coefficents are the difference from the baseline."
      ],
      "metadata": {
        "id": "IklUlzE5VWpQ"
      },
      "id": "IklUlzE5VWpQ"
    },
    {
      "cell_type": "markdown",
      "id": "25bf83c6-ff44-42d6-9b33-8be1b945860d",
      "metadata": {
        "id": "25bf83c6-ff44-42d6-9b33-8be1b945860d"
      },
      "source": [
        "**Q2.** Load `./data/Q1_clean.csv`. The data include\n",
        "\n",
        "- `Price` per night\n",
        "- `Review Scores Rating`: The average rating for the property\n",
        "- `Neighbourhood `: The bourough of NYC. Note the space, or rename the variable.\n",
        "- `Property Type`: The kind of dwelling\n",
        "- `Room Type`: The kind of space being rented\n",
        "\n",
        "1. Compute the average prices and scores by `Neighbourhood `; which bourough is the most expensive on average? Create a kernel density plot of price and log price, grouping by `Neighbourhood `.\n",
        "2. Regress price on `Neighbourhood ` by creating the appropriate dummy/one-hot-encoded variables, without an intercept in the linear model and using all the data. Compare the coefficients in the regression to the table from part 1. What pattern do you see? What are the coefficients in a regression of a continuous variable on one categorical variable?\n",
        "3. Repeat part 2, but leave an intercept in the linear model. How do you have to handle the creation of the dummies differently? What is the intercept? Interpret the coefficients. How can I get the coefficients in part 2 from these new coefficients?\n",
        "4. Split the sample 80/20 into a training and a test set. Run a regression of `Price` on `Review Scores Rating` and `Neighbourhood `. What is the $R^2$ and RMSE on the test set? What is the coefficient on `Review Scores Rating`? What is the most expensive kind of property you can rent?\n",
        "5. Split the sample 80/20 into a training and a test set. Run a regression of `Price` on `Review Scores Rating` and `Neighbourhood ` and `Property Type`. What is the $R^2$ and RMSE on the test set? What is the coefficient on `Review Scores Rating`? What is the most expensive kind of property you can rent?\n",
        "6. What does the coefficient on `Review Scores Rating` mean if it changes from part 4 to 5? Hint: Think about how multilple linear regression works.\n",
        "7. (Optional) We've included `Neighborhood ` and `Property Type` separately in the model. How do you interact them, so you can have \"A bedroom in Queens\" or \"A townhouse in Manhattan\". Split the sample 80/20 into a training and a test set and run a regression including that kind of \"property type X neighborhood\" dummy, plus `Review Scores Rating`. How does the slope coefficient for `Review Scores Rating`, the $R^2$, and the RMSE change? Do they increase significantly compares to part 5? Are the coefficients in this regression just the sum of the coefficients for `Neighbourhood ` and `Property Type` from 5? What is the most expensive kind of property you can rent?"
      ]
    },
    {
      "cell_type": "code",
      "source": [
        "# importing necessary packages\n",
        "import pandas as pd\n",
        "import numpy as np\n",
        "import matplotlib.pyplot as plt\n",
        "import seaborn as sns"
      ],
      "metadata": {
        "id": "utjo7uZLVvjN"
      },
      "id": "utjo7uZLVvjN",
      "execution_count": 3,
      "outputs": []
    },
    {
      "cell_type": "code",
      "source": [
        "# Loading dataset\n",
        "df= pd.read_csv(\"linearModels/assignment/data/Q1_clean.csv\")"
      ],
      "metadata": {
        "id": "d6M-ER3IV-rD"
      },
      "id": "d6M-ER3IV-rD",
      "execution_count": 4,
      "outputs": []
    },
    {
      "cell_type": "code",
      "source": [
        "df.head()"
      ],
      "metadata": {
        "colab": {
          "base_uri": "https://localhost:8080/",
          "height": 206
        },
        "id": "pttPDpccWWqy",
        "outputId": "c54244cb-d4f0-4795-8b2e-098df5fe4329"
      },
      "id": "pttPDpccWWqy",
      "execution_count": 5,
      "outputs": [
        {
          "output_type": "execute_result",
          "data": {
            "text/plain": [
              "   Price  Review Scores Rating Neighbourhood  Property Type        Room Type\n",
              "0    549                  96.0      Manhattan     Apartment     Private room\n",
              "1    149                 100.0       Brooklyn     Apartment  Entire home/apt\n",
              "2    250                 100.0      Manhattan     Apartment  Entire home/apt\n",
              "3     90                  94.0       Brooklyn     Apartment     Private room\n",
              "4    270                  90.0      Manhattan     Apartment  Entire home/apt"
            ],
            "text/html": [
              "\n",
              "  <div id=\"df-303cf0db-d177-4da5-8bf6-80d1592908d0\" class=\"colab-df-container\">\n",
              "    <div>\n",
              "<style scoped>\n",
              "    .dataframe tbody tr th:only-of-type {\n",
              "        vertical-align: middle;\n",
              "    }\n",
              "\n",
              "    .dataframe tbody tr th {\n",
              "        vertical-align: top;\n",
              "    }\n",
              "\n",
              "    .dataframe thead th {\n",
              "        text-align: right;\n",
              "    }\n",
              "</style>\n",
              "<table border=\"1\" class=\"dataframe\">\n",
              "  <thead>\n",
              "    <tr style=\"text-align: right;\">\n",
              "      <th></th>\n",
              "      <th>Price</th>\n",
              "      <th>Review Scores Rating</th>\n",
              "      <th>Neighbourhood</th>\n",
              "      <th>Property Type</th>\n",
              "      <th>Room Type</th>\n",
              "    </tr>\n",
              "  </thead>\n",
              "  <tbody>\n",
              "    <tr>\n",
              "      <th>0</th>\n",
              "      <td>549</td>\n",
              "      <td>96.0</td>\n",
              "      <td>Manhattan</td>\n",
              "      <td>Apartment</td>\n",
              "      <td>Private room</td>\n",
              "    </tr>\n",
              "    <tr>\n",
              "      <th>1</th>\n",
              "      <td>149</td>\n",
              "      <td>100.0</td>\n",
              "      <td>Brooklyn</td>\n",
              "      <td>Apartment</td>\n",
              "      <td>Entire home/apt</td>\n",
              "    </tr>\n",
              "    <tr>\n",
              "      <th>2</th>\n",
              "      <td>250</td>\n",
              "      <td>100.0</td>\n",
              "      <td>Manhattan</td>\n",
              "      <td>Apartment</td>\n",
              "      <td>Entire home/apt</td>\n",
              "    </tr>\n",
              "    <tr>\n",
              "      <th>3</th>\n",
              "      <td>90</td>\n",
              "      <td>94.0</td>\n",
              "      <td>Brooklyn</td>\n",
              "      <td>Apartment</td>\n",
              "      <td>Private room</td>\n",
              "    </tr>\n",
              "    <tr>\n",
              "      <th>4</th>\n",
              "      <td>270</td>\n",
              "      <td>90.0</td>\n",
              "      <td>Manhattan</td>\n",
              "      <td>Apartment</td>\n",
              "      <td>Entire home/apt</td>\n",
              "    </tr>\n",
              "  </tbody>\n",
              "</table>\n",
              "</div>\n",
              "    <div class=\"colab-df-buttons\">\n",
              "\n",
              "  <div class=\"colab-df-container\">\n",
              "    <button class=\"colab-df-convert\" onclick=\"convertToInteractive('df-303cf0db-d177-4da5-8bf6-80d1592908d0')\"\n",
              "            title=\"Convert this dataframe to an interactive table.\"\n",
              "            style=\"display:none;\">\n",
              "\n",
              "  <svg xmlns=\"http://www.w3.org/2000/svg\" height=\"24px\" viewBox=\"0 -960 960 960\">\n",
              "    <path d=\"M120-120v-720h720v720H120Zm60-500h600v-160H180v160Zm220 220h160v-160H400v160Zm0 220h160v-160H400v160ZM180-400h160v-160H180v160Zm440 0h160v-160H620v160ZM180-180h160v-160H180v160Zm440 0h160v-160H620v160Z\"/>\n",
              "  </svg>\n",
              "    </button>\n",
              "\n",
              "  <style>\n",
              "    .colab-df-container {\n",
              "      display:flex;\n",
              "      gap: 12px;\n",
              "    }\n",
              "\n",
              "    .colab-df-convert {\n",
              "      background-color: #E8F0FE;\n",
              "      border: none;\n",
              "      border-radius: 50%;\n",
              "      cursor: pointer;\n",
              "      display: none;\n",
              "      fill: #1967D2;\n",
              "      height: 32px;\n",
              "      padding: 0 0 0 0;\n",
              "      width: 32px;\n",
              "    }\n",
              "\n",
              "    .colab-df-convert:hover {\n",
              "      background-color: #E2EBFA;\n",
              "      box-shadow: 0px 1px 2px rgba(60, 64, 67, 0.3), 0px 1px 3px 1px rgba(60, 64, 67, 0.15);\n",
              "      fill: #174EA6;\n",
              "    }\n",
              "\n",
              "    .colab-df-buttons div {\n",
              "      margin-bottom: 4px;\n",
              "    }\n",
              "\n",
              "    [theme=dark] .colab-df-convert {\n",
              "      background-color: #3B4455;\n",
              "      fill: #D2E3FC;\n",
              "    }\n",
              "\n",
              "    [theme=dark] .colab-df-convert:hover {\n",
              "      background-color: #434B5C;\n",
              "      box-shadow: 0px 1px 3px 1px rgba(0, 0, 0, 0.15);\n",
              "      filter: drop-shadow(0px 1px 2px rgba(0, 0, 0, 0.3));\n",
              "      fill: #FFFFFF;\n",
              "    }\n",
              "  </style>\n",
              "\n",
              "    <script>\n",
              "      const buttonEl =\n",
              "        document.querySelector('#df-303cf0db-d177-4da5-8bf6-80d1592908d0 button.colab-df-convert');\n",
              "      buttonEl.style.display =\n",
              "        google.colab.kernel.accessAllowed ? 'block' : 'none';\n",
              "\n",
              "      async function convertToInteractive(key) {\n",
              "        const element = document.querySelector('#df-303cf0db-d177-4da5-8bf6-80d1592908d0');\n",
              "        const dataTable =\n",
              "          await google.colab.kernel.invokeFunction('convertToInteractive',\n",
              "                                                    [key], {});\n",
              "        if (!dataTable) return;\n",
              "\n",
              "        const docLinkHtml = 'Like what you see? Visit the ' +\n",
              "          '<a target=\"_blank\" href=https://colab.research.google.com/notebooks/data_table.ipynb>data table notebook</a>'\n",
              "          + ' to learn more about interactive tables.';\n",
              "        element.innerHTML = '';\n",
              "        dataTable['output_type'] = 'display_data';\n",
              "        await google.colab.output.renderOutput(dataTable, element);\n",
              "        const docLink = document.createElement('div');\n",
              "        docLink.innerHTML = docLinkHtml;\n",
              "        element.appendChild(docLink);\n",
              "      }\n",
              "    </script>\n",
              "  </div>\n",
              "\n",
              "\n",
              "<div id=\"df-23062e78-04db-411a-ba31-a94fe8f429ad\">\n",
              "  <button class=\"colab-df-quickchart\" onclick=\"quickchart('df-23062e78-04db-411a-ba31-a94fe8f429ad')\"\n",
              "            title=\"Suggest charts\"\n",
              "            style=\"display:none;\">\n",
              "\n",
              "<svg xmlns=\"http://www.w3.org/2000/svg\" height=\"24px\"viewBox=\"0 0 24 24\"\n",
              "     width=\"24px\">\n",
              "    <g>\n",
              "        <path d=\"M19 3H5c-1.1 0-2 .9-2 2v14c0 1.1.9 2 2 2h14c1.1 0 2-.9 2-2V5c0-1.1-.9-2-2-2zM9 17H7v-7h2v7zm4 0h-2V7h2v10zm4 0h-2v-4h2v4z\"/>\n",
              "    </g>\n",
              "</svg>\n",
              "  </button>\n",
              "\n",
              "<style>\n",
              "  .colab-df-quickchart {\n",
              "      --bg-color: #E8F0FE;\n",
              "      --fill-color: #1967D2;\n",
              "      --hover-bg-color: #E2EBFA;\n",
              "      --hover-fill-color: #174EA6;\n",
              "      --disabled-fill-color: #AAA;\n",
              "      --disabled-bg-color: #DDD;\n",
              "  }\n",
              "\n",
              "  [theme=dark] .colab-df-quickchart {\n",
              "      --bg-color: #3B4455;\n",
              "      --fill-color: #D2E3FC;\n",
              "      --hover-bg-color: #434B5C;\n",
              "      --hover-fill-color: #FFFFFF;\n",
              "      --disabled-bg-color: #3B4455;\n",
              "      --disabled-fill-color: #666;\n",
              "  }\n",
              "\n",
              "  .colab-df-quickchart {\n",
              "    background-color: var(--bg-color);\n",
              "    border: none;\n",
              "    border-radius: 50%;\n",
              "    cursor: pointer;\n",
              "    display: none;\n",
              "    fill: var(--fill-color);\n",
              "    height: 32px;\n",
              "    padding: 0;\n",
              "    width: 32px;\n",
              "  }\n",
              "\n",
              "  .colab-df-quickchart:hover {\n",
              "    background-color: var(--hover-bg-color);\n",
              "    box-shadow: 0 1px 2px rgba(60, 64, 67, 0.3), 0 1px 3px 1px rgba(60, 64, 67, 0.15);\n",
              "    fill: var(--button-hover-fill-color);\n",
              "  }\n",
              "\n",
              "  .colab-df-quickchart-complete:disabled,\n",
              "  .colab-df-quickchart-complete:disabled:hover {\n",
              "    background-color: var(--disabled-bg-color);\n",
              "    fill: var(--disabled-fill-color);\n",
              "    box-shadow: none;\n",
              "  }\n",
              "\n",
              "  .colab-df-spinner {\n",
              "    border: 2px solid var(--fill-color);\n",
              "    border-color: transparent;\n",
              "    border-bottom-color: var(--fill-color);\n",
              "    animation:\n",
              "      spin 1s steps(1) infinite;\n",
              "  }\n",
              "\n",
              "  @keyframes spin {\n",
              "    0% {\n",
              "      border-color: transparent;\n",
              "      border-bottom-color: var(--fill-color);\n",
              "      border-left-color: var(--fill-color);\n",
              "    }\n",
              "    20% {\n",
              "      border-color: transparent;\n",
              "      border-left-color: var(--fill-color);\n",
              "      border-top-color: var(--fill-color);\n",
              "    }\n",
              "    30% {\n",
              "      border-color: transparent;\n",
              "      border-left-color: var(--fill-color);\n",
              "      border-top-color: var(--fill-color);\n",
              "      border-right-color: var(--fill-color);\n",
              "    }\n",
              "    40% {\n",
              "      border-color: transparent;\n",
              "      border-right-color: var(--fill-color);\n",
              "      border-top-color: var(--fill-color);\n",
              "    }\n",
              "    60% {\n",
              "      border-color: transparent;\n",
              "      border-right-color: var(--fill-color);\n",
              "    }\n",
              "    80% {\n",
              "      border-color: transparent;\n",
              "      border-right-color: var(--fill-color);\n",
              "      border-bottom-color: var(--fill-color);\n",
              "    }\n",
              "    90% {\n",
              "      border-color: transparent;\n",
              "      border-bottom-color: var(--fill-color);\n",
              "    }\n",
              "  }\n",
              "</style>\n",
              "\n",
              "  <script>\n",
              "    async function quickchart(key) {\n",
              "      const quickchartButtonEl =\n",
              "        document.querySelector('#' + key + ' button');\n",
              "      quickchartButtonEl.disabled = true;  // To prevent multiple clicks.\n",
              "      quickchartButtonEl.classList.add('colab-df-spinner');\n",
              "      try {\n",
              "        const charts = await google.colab.kernel.invokeFunction(\n",
              "            'suggestCharts', [key], {});\n",
              "      } catch (error) {\n",
              "        console.error('Error during call to suggestCharts:', error);\n",
              "      }\n",
              "      quickchartButtonEl.classList.remove('colab-df-spinner');\n",
              "      quickchartButtonEl.classList.add('colab-df-quickchart-complete');\n",
              "    }\n",
              "    (() => {\n",
              "      let quickchartButtonEl =\n",
              "        document.querySelector('#df-23062e78-04db-411a-ba31-a94fe8f429ad button');\n",
              "      quickchartButtonEl.style.display =\n",
              "        google.colab.kernel.accessAllowed ? 'block' : 'none';\n",
              "    })();\n",
              "  </script>\n",
              "</div>\n",
              "\n",
              "    </div>\n",
              "  </div>\n"
            ],
            "application/vnd.google.colaboratory.intrinsic+json": {
              "type": "dataframe",
              "variable_name": "df",
              "summary": "{\n  \"name\": \"df\",\n  \"rows\": 22153,\n  \"fields\": [\n    {\n      \"column\": \"Price\",\n      \"properties\": {\n        \"dtype\": \"number\",\n        \"std\": 148,\n        \"min\": 10,\n        \"max\": 10000,\n        \"num_unique_values\": 463,\n        \"samples\": [\n          152,\n          70,\n          129\n        ],\n        \"semantic_type\": \"\",\n        \"description\": \"\"\n      }\n    },\n    {\n      \"column\": \"Review Scores Rating\",\n      \"properties\": {\n        \"dtype\": \"number\",\n        \"std\": 8.850657791464052,\n        \"min\": 20.0,\n        \"max\": 100.0,\n        \"num_unique_values\": 51,\n        \"samples\": [\n          58.0,\n          64.0,\n          55.0\n        ],\n        \"semantic_type\": \"\",\n        \"description\": \"\"\n      }\n    },\n    {\n      \"column\": \"Neighbourhood \",\n      \"properties\": {\n        \"dtype\": \"category\",\n        \"num_unique_values\": 5,\n        \"samples\": [\n          \"Brooklyn\",\n          \"Staten Island\",\n          \"Queens\"\n        ],\n        \"semantic_type\": \"\",\n        \"description\": \"\"\n      }\n    },\n    {\n      \"column\": \"Property Type\",\n      \"properties\": {\n        \"dtype\": \"category\",\n        \"num_unique_values\": 18,\n        \"samples\": [\n          \"Apartment\",\n          \"Other\",\n          \"Boat\"\n        ],\n        \"semantic_type\": \"\",\n        \"description\": \"\"\n      }\n    },\n    {\n      \"column\": \"Room Type\",\n      \"properties\": {\n        \"dtype\": \"category\",\n        \"num_unique_values\": 3,\n        \"samples\": [\n          \"Private room\",\n          \"Entire home/apt\",\n          \"Shared room\"\n        ],\n        \"semantic_type\": \"\",\n        \"description\": \"\"\n      }\n    }\n  ]\n}"
            }
          },
          "metadata": {},
          "execution_count": 5
        }
      ]
    },
    {
      "cell_type": "code",
      "source": [
        "df= df.rename(columns= {'Neighbourhood ':'Neighbourhood'})\n",
        "df.head()"
      ],
      "metadata": {
        "colab": {
          "base_uri": "https://localhost:8080/",
          "height": 206
        },
        "id": "sqPSPXiuXNjE",
        "outputId": "907d517c-54cc-4bb8-e90b-15b32c3877f2"
      },
      "id": "sqPSPXiuXNjE",
      "execution_count": 8,
      "outputs": [
        {
          "output_type": "execute_result",
          "data": {
            "text/plain": [
              "   Price  Review Scores Rating Neighbourhood Property Type        Room Type\n",
              "0    549                  96.0     Manhattan     Apartment     Private room\n",
              "1    149                 100.0      Brooklyn     Apartment  Entire home/apt\n",
              "2    250                 100.0     Manhattan     Apartment  Entire home/apt\n",
              "3     90                  94.0      Brooklyn     Apartment     Private room\n",
              "4    270                  90.0     Manhattan     Apartment  Entire home/apt"
            ],
            "text/html": [
              "\n",
              "  <div id=\"df-8ba1fdae-0f15-42b3-8ca4-045f036353da\" class=\"colab-df-container\">\n",
              "    <div>\n",
              "<style scoped>\n",
              "    .dataframe tbody tr th:only-of-type {\n",
              "        vertical-align: middle;\n",
              "    }\n",
              "\n",
              "    .dataframe tbody tr th {\n",
              "        vertical-align: top;\n",
              "    }\n",
              "\n",
              "    .dataframe thead th {\n",
              "        text-align: right;\n",
              "    }\n",
              "</style>\n",
              "<table border=\"1\" class=\"dataframe\">\n",
              "  <thead>\n",
              "    <tr style=\"text-align: right;\">\n",
              "      <th></th>\n",
              "      <th>Price</th>\n",
              "      <th>Review Scores Rating</th>\n",
              "      <th>Neighbourhood</th>\n",
              "      <th>Property Type</th>\n",
              "      <th>Room Type</th>\n",
              "    </tr>\n",
              "  </thead>\n",
              "  <tbody>\n",
              "    <tr>\n",
              "      <th>0</th>\n",
              "      <td>549</td>\n",
              "      <td>96.0</td>\n",
              "      <td>Manhattan</td>\n",
              "      <td>Apartment</td>\n",
              "      <td>Private room</td>\n",
              "    </tr>\n",
              "    <tr>\n",
              "      <th>1</th>\n",
              "      <td>149</td>\n",
              "      <td>100.0</td>\n",
              "      <td>Brooklyn</td>\n",
              "      <td>Apartment</td>\n",
              "      <td>Entire home/apt</td>\n",
              "    </tr>\n",
              "    <tr>\n",
              "      <th>2</th>\n",
              "      <td>250</td>\n",
              "      <td>100.0</td>\n",
              "      <td>Manhattan</td>\n",
              "      <td>Apartment</td>\n",
              "      <td>Entire home/apt</td>\n",
              "    </tr>\n",
              "    <tr>\n",
              "      <th>3</th>\n",
              "      <td>90</td>\n",
              "      <td>94.0</td>\n",
              "      <td>Brooklyn</td>\n",
              "      <td>Apartment</td>\n",
              "      <td>Private room</td>\n",
              "    </tr>\n",
              "    <tr>\n",
              "      <th>4</th>\n",
              "      <td>270</td>\n",
              "      <td>90.0</td>\n",
              "      <td>Manhattan</td>\n",
              "      <td>Apartment</td>\n",
              "      <td>Entire home/apt</td>\n",
              "    </tr>\n",
              "  </tbody>\n",
              "</table>\n",
              "</div>\n",
              "    <div class=\"colab-df-buttons\">\n",
              "\n",
              "  <div class=\"colab-df-container\">\n",
              "    <button class=\"colab-df-convert\" onclick=\"convertToInteractive('df-8ba1fdae-0f15-42b3-8ca4-045f036353da')\"\n",
              "            title=\"Convert this dataframe to an interactive table.\"\n",
              "            style=\"display:none;\">\n",
              "\n",
              "  <svg xmlns=\"http://www.w3.org/2000/svg\" height=\"24px\" viewBox=\"0 -960 960 960\">\n",
              "    <path d=\"M120-120v-720h720v720H120Zm60-500h600v-160H180v160Zm220 220h160v-160H400v160Zm0 220h160v-160H400v160ZM180-400h160v-160H180v160Zm440 0h160v-160H620v160ZM180-180h160v-160H180v160Zm440 0h160v-160H620v160Z\"/>\n",
              "  </svg>\n",
              "    </button>\n",
              "\n",
              "  <style>\n",
              "    .colab-df-container {\n",
              "      display:flex;\n",
              "      gap: 12px;\n",
              "    }\n",
              "\n",
              "    .colab-df-convert {\n",
              "      background-color: #E8F0FE;\n",
              "      border: none;\n",
              "      border-radius: 50%;\n",
              "      cursor: pointer;\n",
              "      display: none;\n",
              "      fill: #1967D2;\n",
              "      height: 32px;\n",
              "      padding: 0 0 0 0;\n",
              "      width: 32px;\n",
              "    }\n",
              "\n",
              "    .colab-df-convert:hover {\n",
              "      background-color: #E2EBFA;\n",
              "      box-shadow: 0px 1px 2px rgba(60, 64, 67, 0.3), 0px 1px 3px 1px rgba(60, 64, 67, 0.15);\n",
              "      fill: #174EA6;\n",
              "    }\n",
              "\n",
              "    .colab-df-buttons div {\n",
              "      margin-bottom: 4px;\n",
              "    }\n",
              "\n",
              "    [theme=dark] .colab-df-convert {\n",
              "      background-color: #3B4455;\n",
              "      fill: #D2E3FC;\n",
              "    }\n",
              "\n",
              "    [theme=dark] .colab-df-convert:hover {\n",
              "      background-color: #434B5C;\n",
              "      box-shadow: 0px 1px 3px 1px rgba(0, 0, 0, 0.15);\n",
              "      filter: drop-shadow(0px 1px 2px rgba(0, 0, 0, 0.3));\n",
              "      fill: #FFFFFF;\n",
              "    }\n",
              "  </style>\n",
              "\n",
              "    <script>\n",
              "      const buttonEl =\n",
              "        document.querySelector('#df-8ba1fdae-0f15-42b3-8ca4-045f036353da button.colab-df-convert');\n",
              "      buttonEl.style.display =\n",
              "        google.colab.kernel.accessAllowed ? 'block' : 'none';\n",
              "\n",
              "      async function convertToInteractive(key) {\n",
              "        const element = document.querySelector('#df-8ba1fdae-0f15-42b3-8ca4-045f036353da');\n",
              "        const dataTable =\n",
              "          await google.colab.kernel.invokeFunction('convertToInteractive',\n",
              "                                                    [key], {});\n",
              "        if (!dataTable) return;\n",
              "\n",
              "        const docLinkHtml = 'Like what you see? Visit the ' +\n",
              "          '<a target=\"_blank\" href=https://colab.research.google.com/notebooks/data_table.ipynb>data table notebook</a>'\n",
              "          + ' to learn more about interactive tables.';\n",
              "        element.innerHTML = '';\n",
              "        dataTable['output_type'] = 'display_data';\n",
              "        await google.colab.output.renderOutput(dataTable, element);\n",
              "        const docLink = document.createElement('div');\n",
              "        docLink.innerHTML = docLinkHtml;\n",
              "        element.appendChild(docLink);\n",
              "      }\n",
              "    </script>\n",
              "  </div>\n",
              "\n",
              "\n",
              "<div id=\"df-e4ae5fff-671f-4b02-a28f-4c5ad2382556\">\n",
              "  <button class=\"colab-df-quickchart\" onclick=\"quickchart('df-e4ae5fff-671f-4b02-a28f-4c5ad2382556')\"\n",
              "            title=\"Suggest charts\"\n",
              "            style=\"display:none;\">\n",
              "\n",
              "<svg xmlns=\"http://www.w3.org/2000/svg\" height=\"24px\"viewBox=\"0 0 24 24\"\n",
              "     width=\"24px\">\n",
              "    <g>\n",
              "        <path d=\"M19 3H5c-1.1 0-2 .9-2 2v14c0 1.1.9 2 2 2h14c1.1 0 2-.9 2-2V5c0-1.1-.9-2-2-2zM9 17H7v-7h2v7zm4 0h-2V7h2v10zm4 0h-2v-4h2v4z\"/>\n",
              "    </g>\n",
              "</svg>\n",
              "  </button>\n",
              "\n",
              "<style>\n",
              "  .colab-df-quickchart {\n",
              "      --bg-color: #E8F0FE;\n",
              "      --fill-color: #1967D2;\n",
              "      --hover-bg-color: #E2EBFA;\n",
              "      --hover-fill-color: #174EA6;\n",
              "      --disabled-fill-color: #AAA;\n",
              "      --disabled-bg-color: #DDD;\n",
              "  }\n",
              "\n",
              "  [theme=dark] .colab-df-quickchart {\n",
              "      --bg-color: #3B4455;\n",
              "      --fill-color: #D2E3FC;\n",
              "      --hover-bg-color: #434B5C;\n",
              "      --hover-fill-color: #FFFFFF;\n",
              "      --disabled-bg-color: #3B4455;\n",
              "      --disabled-fill-color: #666;\n",
              "  }\n",
              "\n",
              "  .colab-df-quickchart {\n",
              "    background-color: var(--bg-color);\n",
              "    border: none;\n",
              "    border-radius: 50%;\n",
              "    cursor: pointer;\n",
              "    display: none;\n",
              "    fill: var(--fill-color);\n",
              "    height: 32px;\n",
              "    padding: 0;\n",
              "    width: 32px;\n",
              "  }\n",
              "\n",
              "  .colab-df-quickchart:hover {\n",
              "    background-color: var(--hover-bg-color);\n",
              "    box-shadow: 0 1px 2px rgba(60, 64, 67, 0.3), 0 1px 3px 1px rgba(60, 64, 67, 0.15);\n",
              "    fill: var(--button-hover-fill-color);\n",
              "  }\n",
              "\n",
              "  .colab-df-quickchart-complete:disabled,\n",
              "  .colab-df-quickchart-complete:disabled:hover {\n",
              "    background-color: var(--disabled-bg-color);\n",
              "    fill: var(--disabled-fill-color);\n",
              "    box-shadow: none;\n",
              "  }\n",
              "\n",
              "  .colab-df-spinner {\n",
              "    border: 2px solid var(--fill-color);\n",
              "    border-color: transparent;\n",
              "    border-bottom-color: var(--fill-color);\n",
              "    animation:\n",
              "      spin 1s steps(1) infinite;\n",
              "  }\n",
              "\n",
              "  @keyframes spin {\n",
              "    0% {\n",
              "      border-color: transparent;\n",
              "      border-bottom-color: var(--fill-color);\n",
              "      border-left-color: var(--fill-color);\n",
              "    }\n",
              "    20% {\n",
              "      border-color: transparent;\n",
              "      border-left-color: var(--fill-color);\n",
              "      border-top-color: var(--fill-color);\n",
              "    }\n",
              "    30% {\n",
              "      border-color: transparent;\n",
              "      border-left-color: var(--fill-color);\n",
              "      border-top-color: var(--fill-color);\n",
              "      border-right-color: var(--fill-color);\n",
              "    }\n",
              "    40% {\n",
              "      border-color: transparent;\n",
              "      border-right-color: var(--fill-color);\n",
              "      border-top-color: var(--fill-color);\n",
              "    }\n",
              "    60% {\n",
              "      border-color: transparent;\n",
              "      border-right-color: var(--fill-color);\n",
              "    }\n",
              "    80% {\n",
              "      border-color: transparent;\n",
              "      border-right-color: var(--fill-color);\n",
              "      border-bottom-color: var(--fill-color);\n",
              "    }\n",
              "    90% {\n",
              "      border-color: transparent;\n",
              "      border-bottom-color: var(--fill-color);\n",
              "    }\n",
              "  }\n",
              "</style>\n",
              "\n",
              "  <script>\n",
              "    async function quickchart(key) {\n",
              "      const quickchartButtonEl =\n",
              "        document.querySelector('#' + key + ' button');\n",
              "      quickchartButtonEl.disabled = true;  // To prevent multiple clicks.\n",
              "      quickchartButtonEl.classList.add('colab-df-spinner');\n",
              "      try {\n",
              "        const charts = await google.colab.kernel.invokeFunction(\n",
              "            'suggestCharts', [key], {});\n",
              "      } catch (error) {\n",
              "        console.error('Error during call to suggestCharts:', error);\n",
              "      }\n",
              "      quickchartButtonEl.classList.remove('colab-df-spinner');\n",
              "      quickchartButtonEl.classList.add('colab-df-quickchart-complete');\n",
              "    }\n",
              "    (() => {\n",
              "      let quickchartButtonEl =\n",
              "        document.querySelector('#df-e4ae5fff-671f-4b02-a28f-4c5ad2382556 button');\n",
              "      quickchartButtonEl.style.display =\n",
              "        google.colab.kernel.accessAllowed ? 'block' : 'none';\n",
              "    })();\n",
              "  </script>\n",
              "</div>\n",
              "\n",
              "    </div>\n",
              "  </div>\n"
            ],
            "application/vnd.google.colaboratory.intrinsic+json": {
              "type": "dataframe",
              "variable_name": "df",
              "summary": "{\n  \"name\": \"df\",\n  \"rows\": 22153,\n  \"fields\": [\n    {\n      \"column\": \"Price\",\n      \"properties\": {\n        \"dtype\": \"number\",\n        \"std\": 148,\n        \"min\": 10,\n        \"max\": 10000,\n        \"num_unique_values\": 463,\n        \"samples\": [\n          152,\n          70,\n          129\n        ],\n        \"semantic_type\": \"\",\n        \"description\": \"\"\n      }\n    },\n    {\n      \"column\": \"Review Scores Rating\",\n      \"properties\": {\n        \"dtype\": \"number\",\n        \"std\": 8.850657791464052,\n        \"min\": 20.0,\n        \"max\": 100.0,\n        \"num_unique_values\": 51,\n        \"samples\": [\n          58.0,\n          64.0,\n          55.0\n        ],\n        \"semantic_type\": \"\",\n        \"description\": \"\"\n      }\n    },\n    {\n      \"column\": \"Neighbourhood\",\n      \"properties\": {\n        \"dtype\": \"category\",\n        \"num_unique_values\": 5,\n        \"samples\": [\n          \"Brooklyn\",\n          \"Staten Island\",\n          \"Queens\"\n        ],\n        \"semantic_type\": \"\",\n        \"description\": \"\"\n      }\n    },\n    {\n      \"column\": \"Property Type\",\n      \"properties\": {\n        \"dtype\": \"category\",\n        \"num_unique_values\": 18,\n        \"samples\": [\n          \"Apartment\",\n          \"Other\",\n          \"Boat\"\n        ],\n        \"semantic_type\": \"\",\n        \"description\": \"\"\n      }\n    },\n    {\n      \"column\": \"Room Type\",\n      \"properties\": {\n        \"dtype\": \"category\",\n        \"num_unique_values\": 3,\n        \"samples\": [\n          \"Private room\",\n          \"Entire home/apt\",\n          \"Shared room\"\n        ],\n        \"semantic_type\": \"\",\n        \"description\": \"\"\n      }\n    }\n  ]\n}"
            }
          },
          "metadata": {},
          "execution_count": 8
        }
      ]
    },
    {
      "cell_type": "code",
      "source": [
        "# Let's first see what we are working with\n",
        "df.isnull().sum()# no missing variables :)"
      ],
      "metadata": {
        "colab": {
          "base_uri": "https://localhost:8080/",
          "height": 241
        },
        "id": "0y6Ov9AGYcO4",
        "outputId": "8eff3a4e-a143-474b-f4a4-9dd4b3dcf8a0"
      },
      "id": "0y6Ov9AGYcO4",
      "execution_count": 9,
      "outputs": [
        {
          "output_type": "execute_result",
          "data": {
            "text/plain": [
              "Price                   0\n",
              "Review Scores Rating    0\n",
              "Neighbourhood           0\n",
              "Property Type           0\n",
              "Room Type               0\n",
              "dtype: int64"
            ],
            "text/html": [
              "<div>\n",
              "<style scoped>\n",
              "    .dataframe tbody tr th:only-of-type {\n",
              "        vertical-align: middle;\n",
              "    }\n",
              "\n",
              "    .dataframe tbody tr th {\n",
              "        vertical-align: top;\n",
              "    }\n",
              "\n",
              "    .dataframe thead th {\n",
              "        text-align: right;\n",
              "    }\n",
              "</style>\n",
              "<table border=\"1\" class=\"dataframe\">\n",
              "  <thead>\n",
              "    <tr style=\"text-align: right;\">\n",
              "      <th></th>\n",
              "      <th>0</th>\n",
              "    </tr>\n",
              "  </thead>\n",
              "  <tbody>\n",
              "    <tr>\n",
              "      <th>Price</th>\n",
              "      <td>0</td>\n",
              "    </tr>\n",
              "    <tr>\n",
              "      <th>Review Scores Rating</th>\n",
              "      <td>0</td>\n",
              "    </tr>\n",
              "    <tr>\n",
              "      <th>Neighbourhood</th>\n",
              "      <td>0</td>\n",
              "    </tr>\n",
              "    <tr>\n",
              "      <th>Property Type</th>\n",
              "      <td>0</td>\n",
              "    </tr>\n",
              "    <tr>\n",
              "      <th>Room Type</th>\n",
              "      <td>0</td>\n",
              "    </tr>\n",
              "  </tbody>\n",
              "</table>\n",
              "</div><br><label><b>dtype:</b> int64</label>"
            ]
          },
          "metadata": {},
          "execution_count": 9
        }
      ]
    },
    {
      "cell_type": "code",
      "source": [
        "df.info()"
      ],
      "metadata": {
        "colab": {
          "base_uri": "https://localhost:8080/"
        },
        "id": "D-ZRRGdkYh3J",
        "outputId": "bb9cf03e-2a38-40c0-c8b1-22ee9208ec07"
      },
      "id": "D-ZRRGdkYh3J",
      "execution_count": 10,
      "outputs": [
        {
          "output_type": "stream",
          "name": "stdout",
          "text": [
            "<class 'pandas.core.frame.DataFrame'>\n",
            "RangeIndex: 22153 entries, 0 to 22152\n",
            "Data columns (total 5 columns):\n",
            " #   Column                Non-Null Count  Dtype  \n",
            "---  ------                --------------  -----  \n",
            " 0   Price                 22153 non-null  int64  \n",
            " 1   Review Scores Rating  22153 non-null  float64\n",
            " 2   Neighbourhood         22153 non-null  object \n",
            " 3   Property Type         22153 non-null  object \n",
            " 4   Room Type             22153 non-null  object \n",
            "dtypes: float64(1), int64(1), object(3)\n",
            "memory usage: 865.5+ KB\n"
          ]
        }
      ]
    },
    {
      "cell_type": "code",
      "source": [
        "df.describe()"
      ],
      "metadata": {
        "colab": {
          "base_uri": "https://localhost:8080/",
          "height": 300
        },
        "id": "KgQjhr-mYmGC",
        "outputId": "7e0c8011-468a-4e66-bdab-fe2dde3432fd"
      },
      "id": "KgQjhr-mYmGC",
      "execution_count": 11,
      "outputs": [
        {
          "output_type": "execute_result",
          "data": {
            "text/plain": [
              "              Price  Review Scores Rating\n",
              "count  22153.000000          22153.000000\n",
              "mean     154.787388             91.993093\n",
              "std      148.843320              8.850658\n",
              "min       10.000000             20.000000\n",
              "25%       85.000000             89.000000\n",
              "50%      125.000000             94.000000\n",
              "75%      190.000000            100.000000\n",
              "max    10000.000000            100.000000"
            ],
            "text/html": [
              "\n",
              "  <div id=\"df-d26b84da-d3cf-46cd-9de2-9ec5ba699002\" class=\"colab-df-container\">\n",
              "    <div>\n",
              "<style scoped>\n",
              "    .dataframe tbody tr th:only-of-type {\n",
              "        vertical-align: middle;\n",
              "    }\n",
              "\n",
              "    .dataframe tbody tr th {\n",
              "        vertical-align: top;\n",
              "    }\n",
              "\n",
              "    .dataframe thead th {\n",
              "        text-align: right;\n",
              "    }\n",
              "</style>\n",
              "<table border=\"1\" class=\"dataframe\">\n",
              "  <thead>\n",
              "    <tr style=\"text-align: right;\">\n",
              "      <th></th>\n",
              "      <th>Price</th>\n",
              "      <th>Review Scores Rating</th>\n",
              "    </tr>\n",
              "  </thead>\n",
              "  <tbody>\n",
              "    <tr>\n",
              "      <th>count</th>\n",
              "      <td>22153.000000</td>\n",
              "      <td>22153.000000</td>\n",
              "    </tr>\n",
              "    <tr>\n",
              "      <th>mean</th>\n",
              "      <td>154.787388</td>\n",
              "      <td>91.993093</td>\n",
              "    </tr>\n",
              "    <tr>\n",
              "      <th>std</th>\n",
              "      <td>148.843320</td>\n",
              "      <td>8.850658</td>\n",
              "    </tr>\n",
              "    <tr>\n",
              "      <th>min</th>\n",
              "      <td>10.000000</td>\n",
              "      <td>20.000000</td>\n",
              "    </tr>\n",
              "    <tr>\n",
              "      <th>25%</th>\n",
              "      <td>85.000000</td>\n",
              "      <td>89.000000</td>\n",
              "    </tr>\n",
              "    <tr>\n",
              "      <th>50%</th>\n",
              "      <td>125.000000</td>\n",
              "      <td>94.000000</td>\n",
              "    </tr>\n",
              "    <tr>\n",
              "      <th>75%</th>\n",
              "      <td>190.000000</td>\n",
              "      <td>100.000000</td>\n",
              "    </tr>\n",
              "    <tr>\n",
              "      <th>max</th>\n",
              "      <td>10000.000000</td>\n",
              "      <td>100.000000</td>\n",
              "    </tr>\n",
              "  </tbody>\n",
              "</table>\n",
              "</div>\n",
              "    <div class=\"colab-df-buttons\">\n",
              "\n",
              "  <div class=\"colab-df-container\">\n",
              "    <button class=\"colab-df-convert\" onclick=\"convertToInteractive('df-d26b84da-d3cf-46cd-9de2-9ec5ba699002')\"\n",
              "            title=\"Convert this dataframe to an interactive table.\"\n",
              "            style=\"display:none;\">\n",
              "\n",
              "  <svg xmlns=\"http://www.w3.org/2000/svg\" height=\"24px\" viewBox=\"0 -960 960 960\">\n",
              "    <path d=\"M120-120v-720h720v720H120Zm60-500h600v-160H180v160Zm220 220h160v-160H400v160Zm0 220h160v-160H400v160ZM180-400h160v-160H180v160Zm440 0h160v-160H620v160ZM180-180h160v-160H180v160Zm440 0h160v-160H620v160Z\"/>\n",
              "  </svg>\n",
              "    </button>\n",
              "\n",
              "  <style>\n",
              "    .colab-df-container {\n",
              "      display:flex;\n",
              "      gap: 12px;\n",
              "    }\n",
              "\n",
              "    .colab-df-convert {\n",
              "      background-color: #E8F0FE;\n",
              "      border: none;\n",
              "      border-radius: 50%;\n",
              "      cursor: pointer;\n",
              "      display: none;\n",
              "      fill: #1967D2;\n",
              "      height: 32px;\n",
              "      padding: 0 0 0 0;\n",
              "      width: 32px;\n",
              "    }\n",
              "\n",
              "    .colab-df-convert:hover {\n",
              "      background-color: #E2EBFA;\n",
              "      box-shadow: 0px 1px 2px rgba(60, 64, 67, 0.3), 0px 1px 3px 1px rgba(60, 64, 67, 0.15);\n",
              "      fill: #174EA6;\n",
              "    }\n",
              "\n",
              "    .colab-df-buttons div {\n",
              "      margin-bottom: 4px;\n",
              "    }\n",
              "\n",
              "    [theme=dark] .colab-df-convert {\n",
              "      background-color: #3B4455;\n",
              "      fill: #D2E3FC;\n",
              "    }\n",
              "\n",
              "    [theme=dark] .colab-df-convert:hover {\n",
              "      background-color: #434B5C;\n",
              "      box-shadow: 0px 1px 3px 1px rgba(0, 0, 0, 0.15);\n",
              "      filter: drop-shadow(0px 1px 2px rgba(0, 0, 0, 0.3));\n",
              "      fill: #FFFFFF;\n",
              "    }\n",
              "  </style>\n",
              "\n",
              "    <script>\n",
              "      const buttonEl =\n",
              "        document.querySelector('#df-d26b84da-d3cf-46cd-9de2-9ec5ba699002 button.colab-df-convert');\n",
              "      buttonEl.style.display =\n",
              "        google.colab.kernel.accessAllowed ? 'block' : 'none';\n",
              "\n",
              "      async function convertToInteractive(key) {\n",
              "        const element = document.querySelector('#df-d26b84da-d3cf-46cd-9de2-9ec5ba699002');\n",
              "        const dataTable =\n",
              "          await google.colab.kernel.invokeFunction('convertToInteractive',\n",
              "                                                    [key], {});\n",
              "        if (!dataTable) return;\n",
              "\n",
              "        const docLinkHtml = 'Like what you see? Visit the ' +\n",
              "          '<a target=\"_blank\" href=https://colab.research.google.com/notebooks/data_table.ipynb>data table notebook</a>'\n",
              "          + ' to learn more about interactive tables.';\n",
              "        element.innerHTML = '';\n",
              "        dataTable['output_type'] = 'display_data';\n",
              "        await google.colab.output.renderOutput(dataTable, element);\n",
              "        const docLink = document.createElement('div');\n",
              "        docLink.innerHTML = docLinkHtml;\n",
              "        element.appendChild(docLink);\n",
              "      }\n",
              "    </script>\n",
              "  </div>\n",
              "\n",
              "\n",
              "<div id=\"df-f606f5ea-4f22-46a1-91dc-9c4bf9d6583a\">\n",
              "  <button class=\"colab-df-quickchart\" onclick=\"quickchart('df-f606f5ea-4f22-46a1-91dc-9c4bf9d6583a')\"\n",
              "            title=\"Suggest charts\"\n",
              "            style=\"display:none;\">\n",
              "\n",
              "<svg xmlns=\"http://www.w3.org/2000/svg\" height=\"24px\"viewBox=\"0 0 24 24\"\n",
              "     width=\"24px\">\n",
              "    <g>\n",
              "        <path d=\"M19 3H5c-1.1 0-2 .9-2 2v14c0 1.1.9 2 2 2h14c1.1 0 2-.9 2-2V5c0-1.1-.9-2-2-2zM9 17H7v-7h2v7zm4 0h-2V7h2v10zm4 0h-2v-4h2v4z\"/>\n",
              "    </g>\n",
              "</svg>\n",
              "  </button>\n",
              "\n",
              "<style>\n",
              "  .colab-df-quickchart {\n",
              "      --bg-color: #E8F0FE;\n",
              "      --fill-color: #1967D2;\n",
              "      --hover-bg-color: #E2EBFA;\n",
              "      --hover-fill-color: #174EA6;\n",
              "      --disabled-fill-color: #AAA;\n",
              "      --disabled-bg-color: #DDD;\n",
              "  }\n",
              "\n",
              "  [theme=dark] .colab-df-quickchart {\n",
              "      --bg-color: #3B4455;\n",
              "      --fill-color: #D2E3FC;\n",
              "      --hover-bg-color: #434B5C;\n",
              "      --hover-fill-color: #FFFFFF;\n",
              "      --disabled-bg-color: #3B4455;\n",
              "      --disabled-fill-color: #666;\n",
              "  }\n",
              "\n",
              "  .colab-df-quickchart {\n",
              "    background-color: var(--bg-color);\n",
              "    border: none;\n",
              "    border-radius: 50%;\n",
              "    cursor: pointer;\n",
              "    display: none;\n",
              "    fill: var(--fill-color);\n",
              "    height: 32px;\n",
              "    padding: 0;\n",
              "    width: 32px;\n",
              "  }\n",
              "\n",
              "  .colab-df-quickchart:hover {\n",
              "    background-color: var(--hover-bg-color);\n",
              "    box-shadow: 0 1px 2px rgba(60, 64, 67, 0.3), 0 1px 3px 1px rgba(60, 64, 67, 0.15);\n",
              "    fill: var(--button-hover-fill-color);\n",
              "  }\n",
              "\n",
              "  .colab-df-quickchart-complete:disabled,\n",
              "  .colab-df-quickchart-complete:disabled:hover {\n",
              "    background-color: var(--disabled-bg-color);\n",
              "    fill: var(--disabled-fill-color);\n",
              "    box-shadow: none;\n",
              "  }\n",
              "\n",
              "  .colab-df-spinner {\n",
              "    border: 2px solid var(--fill-color);\n",
              "    border-color: transparent;\n",
              "    border-bottom-color: var(--fill-color);\n",
              "    animation:\n",
              "      spin 1s steps(1) infinite;\n",
              "  }\n",
              "\n",
              "  @keyframes spin {\n",
              "    0% {\n",
              "      border-color: transparent;\n",
              "      border-bottom-color: var(--fill-color);\n",
              "      border-left-color: var(--fill-color);\n",
              "    }\n",
              "    20% {\n",
              "      border-color: transparent;\n",
              "      border-left-color: var(--fill-color);\n",
              "      border-top-color: var(--fill-color);\n",
              "    }\n",
              "    30% {\n",
              "      border-color: transparent;\n",
              "      border-left-color: var(--fill-color);\n",
              "      border-top-color: var(--fill-color);\n",
              "      border-right-color: var(--fill-color);\n",
              "    }\n",
              "    40% {\n",
              "      border-color: transparent;\n",
              "      border-right-color: var(--fill-color);\n",
              "      border-top-color: var(--fill-color);\n",
              "    }\n",
              "    60% {\n",
              "      border-color: transparent;\n",
              "      border-right-color: var(--fill-color);\n",
              "    }\n",
              "    80% {\n",
              "      border-color: transparent;\n",
              "      border-right-color: var(--fill-color);\n",
              "      border-bottom-color: var(--fill-color);\n",
              "    }\n",
              "    90% {\n",
              "      border-color: transparent;\n",
              "      border-bottom-color: var(--fill-color);\n",
              "    }\n",
              "  }\n",
              "</style>\n",
              "\n",
              "  <script>\n",
              "    async function quickchart(key) {\n",
              "      const quickchartButtonEl =\n",
              "        document.querySelector('#' + key + ' button');\n",
              "      quickchartButtonEl.disabled = true;  // To prevent multiple clicks.\n",
              "      quickchartButtonEl.classList.add('colab-df-spinner');\n",
              "      try {\n",
              "        const charts = await google.colab.kernel.invokeFunction(\n",
              "            'suggestCharts', [key], {});\n",
              "      } catch (error) {\n",
              "        console.error('Error during call to suggestCharts:', error);\n",
              "      }\n",
              "      quickchartButtonEl.classList.remove('colab-df-spinner');\n",
              "      quickchartButtonEl.classList.add('colab-df-quickchart-complete');\n",
              "    }\n",
              "    (() => {\n",
              "      let quickchartButtonEl =\n",
              "        document.querySelector('#df-f606f5ea-4f22-46a1-91dc-9c4bf9d6583a button');\n",
              "      quickchartButtonEl.style.display =\n",
              "        google.colab.kernel.accessAllowed ? 'block' : 'none';\n",
              "    })();\n",
              "  </script>\n",
              "</div>\n",
              "\n",
              "    </div>\n",
              "  </div>\n"
            ],
            "application/vnd.google.colaboratory.intrinsic+json": {
              "type": "dataframe",
              "summary": "{\n  \"name\": \"df\",\n  \"rows\": 8,\n  \"fields\": [\n    {\n      \"column\": \"Price\",\n      \"properties\": {\n        \"dtype\": \"number\",\n        \"std\": 8069.640155788799,\n        \"min\": 10.0,\n        \"max\": 22153.0,\n        \"num_unique_values\": 8,\n        \"samples\": [\n          154.78738771272515,\n          125.0,\n          22153.0\n        ],\n        \"semantic_type\": \"\",\n        \"description\": \"\"\n      }\n    },\n    {\n      \"column\": \"Review Scores Rating\",\n      \"properties\": {\n        \"dtype\": \"number\",\n        \"std\": 7806.906612253814,\n        \"min\": 8.850657791464052,\n        \"max\": 22153.0,\n        \"num_unique_values\": 7,\n        \"samples\": [\n          22153.0,\n          91.99309348620955,\n          94.0\n        ],\n        \"semantic_type\": \"\",\n        \"description\": \"\"\n      }\n    }\n  ]\n}"
            }
          },
          "metadata": {},
          "execution_count": 11
        }
      ]
    },
    {
      "cell_type": "code",
      "source": [
        "mean_p= df.groupby('Neighbourhood')[['Price', 'Review Scores Rating']].mean()\n",
        "print(mean_p)"
      ],
      "metadata": {
        "colab": {
          "base_uri": "https://localhost:8080/"
        },
        "id": "u_MoJK8cZep5",
        "outputId": "b028e1dd-0945-4a73-ea13-8e085654de59"
      },
      "id": "u_MoJK8cZep5",
      "execution_count": 14,
      "outputs": [
        {
          "output_type": "stream",
          "name": "stdout",
          "text": [
            "                    Price  Review Scores Rating\n",
            "Neighbourhood                                  \n",
            "Bronx           75.276498             91.654378\n",
            "Brooklyn       127.747378             92.363497\n",
            "Manhattan      183.664286             91.801496\n",
            "Queens          96.857233             91.549057\n",
            "Staten Island  146.166667             90.843750\n"
          ]
        }
      ]
    },
    {
      "cell_type": "markdown",
      "source": [
        "Looks like Manhattan is more expensive on average"
      ],
      "metadata": {
        "id": "Vtvq-RpZaSnd"
      },
      "id": "Vtvq-RpZaSnd"
    },
    {
      "cell_type": "code",
      "source": [
        "sns.kdeplot(data=df,x= 'Price',hue= 'Neighbourhood' , fill= True)"
      ],
      "metadata": {
        "colab": {
          "base_uri": "https://localhost:8080/",
          "height": 466
        },
        "id": "4IFTGEV_abAZ",
        "outputId": "09aac770-5e41-4056-8fdd-d9a037332a1b"
      },
      "id": "4IFTGEV_abAZ",
      "execution_count": 16,
      "outputs": [
        {
          "output_type": "execute_result",
          "data": {
            "text/plain": [
              "<Axes: xlabel='Price', ylabel='Density'>"
            ]
          },
          "metadata": {},
          "execution_count": 16
        },
        {
          "output_type": "display_data",
          "data": {
            "text/plain": [
              "<Figure size 640x480 with 1 Axes>"
            ],
            "image/png": "[encoded data removed]"
          },
          "metadata": {}
        }
      ]
    },
    {
      "cell_type": "code",
      "source": [
        "# Lets put into log scale so we can see stuff better\n",
        "df['LogP'] = np.log(df['Price'])\n",
        "sns.kdeplot(data= df, x= 'LogP', hue= 'Neighbourhood', fill= True)"
      ],
      "metadata": {
        "colab": {
          "base_uri": "https://localhost:8080/",
          "height": 466
        },
        "id": "DIn5to3XbHLe",
        "outputId": "cc225061-d8d5-44f6-ef46-47b1fbe80afe"
      },
      "id": "DIn5to3XbHLe",
      "execution_count": 18,
      "outputs": [
        {
          "output_type": "execute_result",
          "data": {
            "text/plain": [
              "<Axes: xlabel='LogP', ylabel='Density'>"
            ]
          },
          "metadata": {},
          "execution_count": 18
        },
        {
          "output_type": "display_data",
          "data": {
            "text/plain": [
              "<Figure size 640x480 with 1 Axes>"
            ],
            "image/png": "[encoded data removed]"
          },
          "metadata": {}
        }
      ]
    },
    {
      "cell_type": "code",
      "source": [
        "from sklearn.linear_model import LinearRegression\n",
        "df_dummy= pd.get_dummies(df['Neighbourhood'], drop_first= True) # dropping the frist column ( no intercept)\n",
        "x1= df_dummy\n",
        "y1= df['Price']\n",
        "\n",
        "equation_model= LinearRegression(fit_intercept= False)\n",
        "equation_model.fit(x1,y1)\n",
        "print(equation_model.coef_)"
      ],
      "metadata": {
        "colab": {
          "base_uri": "https://localhost:8080/"
        },
        "id": "2K1rIK3vbitK",
        "outputId": "e9b77f82-57fe-47dd-d5dd-29bd1366b4f5"
      },
      "id": "2K1rIK3vbitK",
      "execution_count": 21,
      "outputs": [
        {
          "output_type": "stream",
          "name": "stdout",
          "text": [
            "[127.74737834 183.66428632  96.8572327  146.16666667]\n"
          ]
        }
      ]
    },
    {
      "cell_type": "markdown",
      "source": [
        "After comparing the coefficent in the regression above with the grouped table, I noticed that the price column from the table correlated/ matched values exactly with the regression values we got, however there were only 4, but orginally we had 5 (the bronx price is missing)- likely because we dropped the first column. The coefficents represents difference in price between each neighbourhood."
      ],
      "metadata": {
        "id": "JCPI6HUqeTyE"
      },
      "id": "JCPI6HUqeTyE"
    },
    {
      "cell_type": "code",
      "source": [
        "# including intercept\n",
        "from sklearn.linear_model import LinearRegression\n",
        "df_dummy= pd.get_dummies(df['Neighbourhood'], drop_first= False) # not dropping the frist column ( need  intercept)\n",
        "x1= df_dummy\n",
        "y1= df['Price']\n",
        "\n",
        "equation_model= LinearRegression()\n",
        "equation_model.fit(x1,y1)\n",
        "print(\"Coefficeints\", equation_model.coef_)\n",
        "print(\"Intercept\", equation_model.intercept_)"
      ],
      "metadata": {
        "colab": {
          "base_uri": "https://localhost:8080/"
        },
        "id": "FkYg9fechRKV",
        "outputId": "b59f5695-2cca-4bb2-dbb0-7fe76255e9f8"
      },
      "id": "FkYg9fechRKV",
      "execution_count": 26,
      "outputs": [
        {
          "output_type": "stream",
          "name": "stdout",
          "text": [
            "Coefficeints [-50.66591465   1.804966    57.72187398 -29.08517964  20.22425432]\n",
            "Intercept 125.9424123463574\n"
          ]
        }
      ]
    },
    {
      "cell_type": "markdown",
      "source": [
        "The intercept is 125.94, the coefficents interncepts is : -50.66591465   1.804966    57.72187398 -29.08517964  20.22425432, we got these coeffficents in part 2 from these new conffiectens by keeping the intercept column"
      ],
      "metadata": {
        "id": "ZvGdUL43kAa0"
      },
      "id": "ZvGdUL43kAa0"
    },
    {
      "cell_type": "code",
      "source": [
        "from sklearn.model_selection import train_test_split\n",
        "from sklearn.linear_model import LinearRegression\n",
        "from sklearn.metrics import mean_squared_error\n",
        "import numpy as np"
      ],
      "metadata": {
        "id": "TsPuuOy0kyXh"
      },
      "id": "TsPuuOy0kyXh",
      "execution_count": 29,
      "outputs": []
    },
    {
      "cell_type": "code",
      "source": [
        "#USED CHATGTP to help me on some of this\n",
        "\n",
        "df_dummy = pd.get_dummies(df['Neighbourhood'], drop_first=True)\n",
        "X = df[['Review Scores Rating']].join(df_dummy)  # Include Review Scores Rating and Neighbourhood dummies\n",
        "y = df['Price']  # Price as the dependent variable\n",
        "X_train, X_test, y_train, y_test = train_test_split(X, y, test_size=0.2, random_state=42)\n",
        "model = LinearRegression()\n",
        "model.fit(X_train, y_train)\n",
        "y_pred = model.predict(X_test)\n",
        "rmse = np.sqrt(mean_squared_error(y_test, y_pred))\n",
        "print(f\"RMSE: {rmse}\")\n",
        "print(f\"Coefficient for Reivew Score Rating: {model.coef_[0]}\")"
      ],
      "metadata": {
        "colab": {
          "base_uri": "https://localhost:8080/"
        },
        "id": "jLk2LrnriE40",
        "outputId": "7071cc4a-b53c-447b-8229-d19d10939881"
      },
      "id": "jLk2LrnriE40",
      "execution_count": 35,
      "outputs": [
        {
          "output_type": "stream",
          "name": "stdout",
          "text": [
            "RMSE: 140.91821103729345\n",
            "Coefficient for Reivew Score Rating: 1.2118517840632352\n"
          ]
        }
      ]
    },
    {
      "cell_type": "markdown",
      "source": [
        "The most expenive neighbourhood would still be manhantan (based on previous answers)"
      ],
      "metadata": {
        "id": "gUsIMW-4mYgk"
      },
      "id": "gUsIMW-4mYgk"
    },
    {
      "cell_type": "code",
      "source": [
        "# Now we have to train/test for porperty type ( we can bascially use the same process above)"
      ],
      "metadata": {
        "id": "6Dqs4wI6nCRs"
      },
      "id": "6Dqs4wI6nCRs",
      "execution_count": null,
      "outputs": []
    },
    {
      "cell_type": "code",
      "source": [
        "df_dummy = pd.get_dummies(df[['Neighbourhood', 'Property Type']], drop_first=True)\n",
        "X = df[['Review Scores Rating']].join(df_dummy)  # Include Review Scores Rating and Neighbourhood dummies\n",
        "y = df['Price']  # Price as the dependent variable\n",
        "X_train, X_test, y_train, y_test = train_test_split(X, y, test_size=0.2, random_state=42)\n",
        "model = LinearRegression()\n",
        "model.fit(X_train, y_train)\n",
        "y_pred = model.predict(X_test)\n",
        "rmse = np.sqrt(mean_squared_error(y_test, y_pred))\n",
        "print(f\"RMSE: {rmse}\")\n",
        "print(f\"Coefficient for Reivew Score Rating: {model.coef_[0]}\")\n",
        "# Most expensive property type based on coefficients (exclude Review Scores Rating and Neighbourhood)\n",
        "# Filter out columns related to Neighbourhood\n",
        "\n",
        "# ASKED CHATGTP ON HOW TO GET THIS\n",
        "coeffs = pd.DataFrame(model.coef_, X.columns, columns=['Coefficient'])\n",
        "\n",
        "property_type_coeffs = coeffs[coeffs.index.str.startswith('Property Type_')]\n",
        "\n",
        "# Find the property type with the maximum coefficient\n",
        "max_coeff_property_type = property_type_coeffs.idxmax()[0]\n",
        "\n",
        "# Extract the property type name from the column name\n",
        "most_expensive_property_type = max_coeff_property_type.split('_')[1]\n",
        "\n",
        "# Print the most expensive property type\n",
        "print(f\"The most expensive property type is: {most_expensive_property_type}\")\n",
        "\n"
      ],
      "metadata": {
        "colab": {
          "base_uri": "https://localhost:8080/"
        },
        "id": "bcylhA3bno2U",
        "outputId": "b64fc31d-f870-426b-be3d-792fbb653fb6"
      },
      "id": "bcylhA3bno2U",
      "execution_count": 59,
      "outputs": [
        {
          "output_type": "stream",
          "name": "stdout",
          "text": [
            "RMSE: 140.30266238276283\n",
            "Coefficient for Reivew Score Rating: 1.2010106602298556\n",
            "The most expensive property type is: Bungalow\n"
          ]
        },
        {
          "output_type": "stream",
          "name": "stderr",
          "text": [
            "<ipython-input-59-c1cdee96778a>:20: FutureWarning: Series.__getitem__ treating keys as positions is deprecated. In a future version, integer keys will always be treated as labels (consistent with DataFrame behavior). To access a value by position, use `ser.iloc[pos]`\n",
            "  max_coeff_property_type = property_type_coeffs.idxmax()[0]\n"
          ]
        }
      ]
    },
    {
      "cell_type": "markdown",
      "source": [
        "Looks like the expenisve property type is Bungalow"
      ],
      "metadata": {
        "id": "t5dLKgssuM1K"
      },
      "id": "t5dLKgssuM1K"
    },
    {
      "cell_type": "markdown",
      "source": [
        "** STEP 6. ANSWER** The Coefficient on Review Scores Rating chaning value from part 4 to 5 means that in part 5 we are accounint gofr neighbourhood and property type ( more than one variable to look at while from part 4 it's just one indendept variable to look at  "
      ],
      "metadata": {
        "id": "ivM0FzFtvMyT"
      },
      "id": "ivM0FzFtvMyT"
    },
    {
      "cell_type": "markdown",
      "id": "95f22300-0180-4ed2-be8f-ed56cf4cd36b",
      "metadata": {
        "id": "95f22300-0180-4ed2-be8f-ed56cf4cd36b"
      },
      "source": [
        "**Q3.** This question is a case study for linear models. The data are about car prices. In particular, they include:\n",
        "\n",
        "  - `Price`, `Color`, `Seating_Capacity`\n",
        "  - `Body_Type`: crossover, hatchback, muv, sedan, suv\n",
        "  - `Make`, `Make_Year`: The brand of car and year produced\n",
        "  - `Mileage_Run`: The number of miles on the odometer\n",
        "  - `Fuel_Type`: Diesel or gasoline/petrol\n",
        "  - `Transmission`, `Transmission_Type`:  speeds and automatic/manual\n",
        "\n",
        "  1. Load `cars_hw.csv`. These data were really dirty, and I've already cleaned them a significant amount in terms of missing values and other issues, but some issues remain (e.g. outliers, badly scaled variables that require a log or arcsinh transformation). Clean the data however you think is most appropriate.\n",
        "  2. Summarize the `Price` variable and create a kernel density plot. Use `.groupby()` and `.describe()` to summarize prices by brand (`Make`). Make a grouped kernel density plot by `Make`. Which car brands are the most expensive? What do prices look like in general?\n",
        "  3. Split the data into an 80% training set and a 20% testing set.\n",
        "  4. Make a model where you regress price on the numeric variables alone; what is the $R^2$ and `RMSE` on the training set and test set? Make a second model where, for the categorical variables, you regress price on a model comprised of one-hot encoded regressors/features alone (you can use `pd.get_dummies()`; be careful of the dummy variable trap); what is the $R^2$ and `RMSE` on the test set? Which model performs better on the test set? Make a third model that combines all the regressors from the previous two; what is the $R^2$ and `RMSE` on the test set? Does the joint model perform better or worse, and by home much?\n",
        "  5. Use the `PolynomialFeatures` function from `sklearn` to expand the set of numerical variables you're using in the regression. As you increase the degree of the expansion, how do the $R^2$ and `RMSE` change? At what point does $R^2$ go negative on the test set? For your best model with expanded features, what is the $R^2$ and `RMSE`? How does it compare to your best model from part 4?\n",
        "  6. For your best model so far, determine the predicted values for the test data and plot them against the true values. Do the predicted values and true values roughly line up along the diagonal, or not? Compute the residuals/errors for the test data and create a kernel density plot. Do the residuals look roughly bell-shaped around zero? Evaluate the strengths and weaknesses of your model."
      ]
    },
    {
      "cell_type": "code",
      "source": [
        "#Loading the data\n",
        "df1= pd.read_csv(\"linearModels/assignment/data/cars_hw.csv\")\n",
        "df1.head()"
      ],
      "metadata": {
        "colab": {
          "base_uri": "https://localhost:8080/",
          "height": 243
        },
        "id": "Znl0_wlXxYe2",
        "outputId": "3d7e0557-ed11-46cf-bfca-2771ceba1614"
      },
      "id": "Znl0_wlXxYe2",
      "execution_count": 61,
      "outputs": [
        {
          "output_type": "execute_result",
          "data": {
            "text/plain": [
              "   Unnamed: 0        Make  Make_Year   Color  Body_Type  Mileage_Run  \\\n",
              "0           1  Volkswagen       2017  silver      sedan        44611   \n",
              "1           2     Hyundai       2016     red  crossover        20305   \n",
              "2           3       Honda       2019   white        suv        29540   \n",
              "3           4     Renault       2017  bronze  hatchback        35680   \n",
              "4           5     Hyundai       2017  orange  hatchback        25126   \n",
              "\n",
              "  No_of_Owners  Seating_Capacity Fuel_Type Transmission Transmission_Type  \\\n",
              "0          1st                 5    diesel      7-Speed         Automatic   \n",
              "1          1st                 5    petrol      5-Speed            Manual   \n",
              "2          2nd                 5    petrol      5-Speed            Manual   \n",
              "3          1st                 5    petrol      5-Speed            Manual   \n",
              "4          1st                 5    petrol      5-Speed            Manual   \n",
              "\n",
              "    Price  \n",
              "0  657000  \n",
              "1  682000  \n",
              "2  793000  \n",
              "3  414000  \n",
              "4  515000  "
            ],
            "text/html": [
              "\n",
              "  <div id=\"df-7fbb6bf7-eed8-4f6a-96b8-fc2c59264758\" class=\"colab-df-container\">\n",
              "    <div>\n",
              "<style scoped>\n",
              "    .dataframe tbody tr th:only-of-type {\n",
              "        vertical-align: middle;\n",
              "    }\n",
              "\n",
              "    .dataframe tbody tr th {\n",
              "        vertical-align: top;\n",
              "    }\n",
              "\n",
              "    .dataframe thead th {\n",
              "        text-align: right;\n",
              "    }\n",
              "</style>\n",
              "<table border=\"1\" class=\"dataframe\">\n",
              "  <thead>\n",
              "    <tr style=\"text-align: right;\">\n",
              "      <th></th>\n",
              "      <th>Unnamed: 0</th>\n",
              "      <th>Make</th>\n",
              "      <th>Make_Year</th>\n",
              "      <th>Color</th>\n",
              "      <th>Body_Type</th>\n",
              "      <th>Mileage_Run</th>\n",
              "      <th>No_of_Owners</th>\n",
              "      <th>Seating_Capacity</th>\n",
              "      <th>Fuel_Type</th>\n",
              "      <th>Transmission</th>\n",
              "      <th>Transmission_Type</th>\n",
              "      <th>Price</th>\n",
              "    </tr>\n",
              "  </thead>\n",
              "  <tbody>\n",
              "    <tr>\n",
              "      <th>0</th>\n",
              "      <td>1</td>\n",
              "      <td>Volkswagen</td>\n",
              "      <td>2017</td>\n",
              "      <td>silver</td>\n",
              "      <td>sedan</td>\n",
              "      <td>44611</td>\n",
              "      <td>1st</td>\n",
              "      <td>5</td>\n",
              "      <td>diesel</td>\n",
              "      <td>7-Speed</td>\n",
              "      <td>Automatic</td>\n",
              "      <td>657000</td>\n",
              "    </tr>\n",
              "    <tr>\n",
              "      <th>1</th>\n",
              "      <td>2</td>\n",
              "      <td>Hyundai</td>\n",
              "      <td>2016</td>\n",
              "      <td>red</td>\n",
              "      <td>crossover</td>\n",
              "      <td>20305</td>\n",
              "      <td>1st</td>\n",
              "      <td>5</td>\n",
              "      <td>petrol</td>\n",
              "      <td>5-Speed</td>\n",
              "      <td>Manual</td>\n",
              "      <td>682000</td>\n",
              "    </tr>\n",
              "    <tr>\n",
              "      <th>2</th>\n",
              "      <td>3</td>\n",
              "      <td>Honda</td>\n",
              "      <td>2019</td>\n",
              "      <td>white</td>\n",
              "      <td>suv</td>\n",
              "      <td>29540</td>\n",
              "      <td>2nd</td>\n",
              "      <td>5</td>\n",
              "      <td>petrol</td>\n",
              "      <td>5-Speed</td>\n",
              "      <td>Manual</td>\n",
              "      <td>793000</td>\n",
              "    </tr>\n",
              "    <tr>\n",
              "      <th>3</th>\n",
              "      <td>4</td>\n",
              "      <td>Renault</td>\n",
              "      <td>2017</td>\n",
              "      <td>bronze</td>\n",
              "      <td>hatchback</td>\n",
              "      <td>35680</td>\n",
              "      <td>1st</td>\n",
              "      <td>5</td>\n",
              "      <td>petrol</td>\n",
              "      <td>5-Speed</td>\n",
              "      <td>Manual</td>\n",
              "      <td>414000</td>\n",
              "    </tr>\n",
              "    <tr>\n",
              "      <th>4</th>\n",
              "      <td>5</td>\n",
              "      <td>Hyundai</td>\n",
              "      <td>2017</td>\n",
              "      <td>orange</td>\n",
              "      <td>hatchback</td>\n",
              "      <td>25126</td>\n",
              "      <td>1st</td>\n",
              "      <td>5</td>\n",
              "      <td>petrol</td>\n",
              "      <td>5-Speed</td>\n",
              "      <td>Manual</td>\n",
              "      <td>515000</td>\n",
              "    </tr>\n",
              "  </tbody>\n",
              "</table>\n",
              "</div>\n",
              "    <div class=\"colab-df-buttons\">\n",
              "\n",
              "  <div class=\"colab-df-container\">\n",
              "    <button class=\"colab-df-convert\" onclick=\"convertToInteractive('df-7fbb6bf7-eed8-4f6a-96b8-fc2c59264758')\"\n",
              "            title=\"Convert this dataframe to an interactive table.\"\n",
              "            style=\"display:none;\">\n",
              "\n",
              "  <svg xmlns=\"http://www.w3.org/2000/svg\" height=\"24px\" viewBox=\"0 -960 960 960\">\n",
              "    <path d=\"M120-120v-720h720v720H120Zm60-500h600v-160H180v160Zm220 220h160v-160H400v160Zm0 220h160v-160H400v160ZM180-400h160v-160H180v160Zm440 0h160v-160H620v160ZM180-180h160v-160H180v160Zm440 0h160v-160H620v160Z\"/>\n",
              "  </svg>\n",
              "    </button>\n",
              "\n",
              "  <style>\n",
              "    .colab-df-container {\n",
              "      display:flex;\n",
              "      gap: 12px;\n",
              "    }\n",
              "\n",
              "    .colab-df-convert {\n",
              "      background-color: #E8F0FE;\n",
              "      border: none;\n",
              "      border-radius: 50%;\n",
              "      cursor: pointer;\n",
              "      display: none;\n",
              "      fill: #1967D2;\n",
              "      height: 32px;\n",
              "      padding: 0 0 0 0;\n",
              "      width: 32px;\n",
              "    }\n",
              "\n",
              "    .colab-df-convert:hover {\n",
              "      background-color: #E2EBFA;\n",
              "      box-shadow: 0px 1px 2px rgba(60, 64, 67, 0.3), 0px 1px 3px 1px rgba(60, 64, 67, 0.15);\n",
              "      fill: #174EA6;\n",
              "    }\n",
              "\n",
              "    .colab-df-buttons div {\n",
              "      margin-bottom: 4px;\n",
              "    }\n",
              "\n",
              "    [theme=dark] .colab-df-convert {\n",
              "      background-color: #3B4455;\n",
              "      fill: #D2E3FC;\n",
              "    }\n",
              "\n",
              "    [theme=dark] .colab-df-convert:hover {\n",
              "      background-color: #434B5C;\n",
              "      box-shadow: 0px 1px 3px 1px rgba(0, 0, 0, 0.15);\n",
              "      filter: drop-shadow(0px 1px 2px rgba(0, 0, 0, 0.3));\n",
              "      fill: #FFFFFF;\n",
              "    }\n",
              "  </style>\n",
              "\n",
              "    <script>\n",
              "      const buttonEl =\n",
              "        document.querySelector('#df-7fbb6bf7-eed8-4f6a-96b8-fc2c59264758 button.colab-df-convert');\n",
              "      buttonEl.style.display =\n",
              "        google.colab.kernel.accessAllowed ? 'block' : 'none';\n",
              "\n",
              "      async function convertToInteractive(key) {\n",
              "        const element = document.querySelector('#df-7fbb6bf7-eed8-4f6a-96b8-fc2c59264758');\n",
              "        const dataTable =\n",
              "          await google.colab.kernel.invokeFunction('convertToInteractive',\n",
              "                                                    [key], {});\n",
              "        if (!dataTable) return;\n",
              "\n",
              "        const docLinkHtml = 'Like what you see? Visit the ' +\n",
              "          '<a target=\"_blank\" href=https://colab.research.google.com/notebooks/data_table.ipynb>data table notebook</a>'\n",
              "          + ' to learn more about interactive tables.';\n",
              "        element.innerHTML = '';\n",
              "        dataTable['output_type'] = 'display_data';\n",
              "        await google.colab.output.renderOutput(dataTable, element);\n",
              "        const docLink = document.createElement('div');\n",
              "        docLink.innerHTML = docLinkHtml;\n",
              "        element.appendChild(docLink);\n",
              "      }\n",
              "    </script>\n",
              "  </div>\n",
              "\n",
              "\n",
              "<div id=\"df-87ad4134-15cb-4fbf-9a12-4c10cccf2f9a\">\n",
              "  <button class=\"colab-df-quickchart\" onclick=\"quickchart('df-87ad4134-15cb-4fbf-9a12-4c10cccf2f9a')\"\n",
              "            title=\"Suggest charts\"\n",
              "            style=\"display:none;\">\n",
              "\n",
              "<svg xmlns=\"http://www.w3.org/2000/svg\" height=\"24px\"viewBox=\"0 0 24 24\"\n",
              "     width=\"24px\">\n",
              "    <g>\n",
              "        <path d=\"M19 3H5c-1.1 0-2 .9-2 2v14c0 1.1.9 2 2 2h14c1.1 0 2-.9 2-2V5c0-1.1-.9-2-2-2zM9 17H7v-7h2v7zm4 0h-2V7h2v10zm4 0h-2v-4h2v4z\"/>\n",
              "    </g>\n",
              "</svg>\n",
              "  </button>\n",
              "\n",
              "<style>\n",
              "  .colab-df-quickchart {\n",
              "      --bg-color: #E8F0FE;\n",
              "      --fill-color: #1967D2;\n",
              "      --hover-bg-color: #E2EBFA;\n",
              "      --hover-fill-color: #174EA6;\n",
              "      --disabled-fill-color: #AAA;\n",
              "      --disabled-bg-color: #DDD;\n",
              "  }\n",
              "\n",
              "  [theme=dark] .colab-df-quickchart {\n",
              "      --bg-color: #3B4455;\n",
              "      --fill-color: #D2E3FC;\n",
              "      --hover-bg-color: #434B5C;\n",
              "      --hover-fill-color: #FFFFFF;\n",
              "      --disabled-bg-color: #3B4455;\n",
              "      --disabled-fill-color: #666;\n",
              "  }\n",
              "\n",
              "  .colab-df-quickchart {\n",
              "    background-color: var(--bg-color);\n",
              "    border: none;\n",
              "    border-radius: 50%;\n",
              "    cursor: pointer;\n",
              "    display: none;\n",
              "    fill: var(--fill-color);\n",
              "    height: 32px;\n",
              "    padding: 0;\n",
              "    width: 32px;\n",
              "  }\n",
              "\n",
              "  .colab-df-quickchart:hover {\n",
              "    background-color: var(--hover-bg-color);\n",
              "    box-shadow: 0 1px 2px rgba(60, 64, 67, 0.3), 0 1px 3px 1px rgba(60, 64, 67, 0.15);\n",
              "    fill: var(--button-hover-fill-color);\n",
              "  }\n",
              "\n",
              "  .colab-df-quickchart-complete:disabled,\n",
              "  .colab-df-quickchart-complete:disabled:hover {\n",
              "    background-color: var(--disabled-bg-color);\n",
              "    fill: var(--disabled-fill-color);\n",
              "    box-shadow: none;\n",
              "  }\n",
              "\n",
              "  .colab-df-spinner {\n",
              "    border: 2px solid var(--fill-color);\n",
              "    border-color: transparent;\n",
              "    border-bottom-color: var(--fill-color);\n",
              "    animation:\n",
              "      spin 1s steps(1) infinite;\n",
              "  }\n",
              "\n",
              "  @keyframes spin {\n",
              "    0% {\n",
              "      border-color: transparent;\n",
              "      border-bottom-color: var(--fill-color);\n",
              "      border-left-color: var(--fill-color);\n",
              "    }\n",
              "    20% {\n",
              "      border-color: transparent;\n",
              "      border-left-color: var(--fill-color);\n",
              "      border-top-color: var(--fill-color);\n",
              "    }\n",
              "    30% {\n",
              "      border-color: transparent;\n",
              "      border-left-color: var(--fill-color);\n",
              "      border-top-color: var(--fill-color);\n",
              "      border-right-color: var(--fill-color);\n",
              "    }\n",
              "    40% {\n",
              "      border-color: transparent;\n",
              "      border-right-color: var(--fill-color);\n",
              "      border-top-color: var(--fill-color);\n",
              "    }\n",
              "    60% {\n",
              "      border-color: transparent;\n",
              "      border-right-color: var(--fill-color);\n",
              "    }\n",
              "    80% {\n",
              "      border-color: transparent;\n",
              "      border-right-color: var(--fill-color);\n",
              "      border-bottom-color: var(--fill-color);\n",
              "    }\n",
              "    90% {\n",
              "      border-color: transparent;\n",
              "      border-bottom-color: var(--fill-color);\n",
              "    }\n",
              "  }\n",
              "</style>\n",
              "\n",
              "  <script>\n",
              "    async function quickchart(key) {\n",
              "      const quickchartButtonEl =\n",
              "        document.querySelector('#' + key + ' button');\n",
              "      quickchartButtonEl.disabled = true;  // To prevent multiple clicks.\n",
              "      quickchartButtonEl.classList.add('colab-df-spinner');\n",
              "      try {\n",
              "        const charts = await google.colab.kernel.invokeFunction(\n",
              "            'suggestCharts', [key], {});\n",
              "      } catch (error) {\n",
              "        console.error('Error during call to suggestCharts:', error);\n",
              "      }\n",
              "      quickchartButtonEl.classList.remove('colab-df-spinner');\n",
              "      quickchartButtonEl.classList.add('colab-df-quickchart-complete');\n",
              "    }\n",
              "    (() => {\n",
              "      let quickchartButtonEl =\n",
              "        document.querySelector('#df-87ad4134-15cb-4fbf-9a12-4c10cccf2f9a button');\n",
              "      quickchartButtonEl.style.display =\n",
              "        google.colab.kernel.accessAllowed ? 'block' : 'none';\n",
              "    })();\n",
              "  </script>\n",
              "</div>\n",
              "\n",
              "    </div>\n",
              "  </div>\n"
            ],
            "application/vnd.google.colaboratory.intrinsic+json": {
              "type": "dataframe",
              "variable_name": "df1",
              "summary": "{\n  \"name\": \"df1\",\n  \"rows\": 976,\n  \"fields\": [\n    {\n      \"column\": \"Unnamed: 0\",\n      \"properties\": {\n        \"dtype\": \"number\",\n        \"std\": 281,\n        \"min\": 1,\n        \"max\": 976,\n        \"num_unique_values\": 976,\n        \"samples\": [\n          200,\n          542,\n          175\n        ],\n        \"semantic_type\": \"\",\n        \"description\": \"\"\n      }\n    },\n    {\n      \"column\": \"Make\",\n      \"properties\": {\n        \"dtype\": \"category\",\n        \"num_unique_values\": 16,\n        \"samples\": [\n          \"Volkswagen\",\n          \"Hyundai\",\n          \"Chevrolet\"\n        ],\n        \"semantic_type\": \"\",\n        \"description\": \"\"\n      }\n    },\n    {\n      \"column\": \"Make_Year\",\n      \"properties\": {\n        \"dtype\": \"number\",\n        \"std\": 2,\n        \"min\": 2011,\n        \"max\": 2022,\n        \"num_unique_values\": 12,\n        \"samples\": [\n          2011,\n          2014,\n          2017\n        ],\n        \"semantic_type\": \"\",\n        \"description\": \"\"\n      }\n    },\n    {\n      \"column\": \"Color\",\n      \"properties\": {\n        \"dtype\": \"category\",\n        \"num_unique_values\": 15,\n        \"samples\": [\n          \"brown\",\n          \"black\",\n          \"silver\"\n        ],\n        \"semantic_type\": \"\",\n        \"description\": \"\"\n      }\n    },\n    {\n      \"column\": \"Body_Type\",\n      \"properties\": {\n        \"dtype\": \"category\",\n        \"num_unique_values\": 5,\n        \"samples\": [\n          \"crossover\",\n          \"muv\",\n          \"suv\"\n        ],\n        \"semantic_type\": \"\",\n        \"description\": \"\"\n      }\n    },\n    {\n      \"column\": \"Mileage_Run\",\n      \"properties\": {\n        \"dtype\": \"number\",\n        \"std\": 24390,\n        \"min\": 1117,\n        \"max\": 99495,\n        \"num_unique_values\": 878,\n        \"samples\": [\n          16240,\n          23724,\n          43273\n        ],\n        \"semantic_type\": \"\",\n        \"description\": \"\"\n      }\n    },\n    {\n      \"column\": \"No_of_Owners\",\n      \"properties\": {\n        \"dtype\": \"category\",\n        \"num_unique_values\": 3,\n        \"samples\": [\n          \"1st\",\n          \"2nd\",\n          \"3rd\"\n        ],\n        \"semantic_type\": \"\",\n        \"description\": \"\"\n      }\n    },\n    {\n      \"column\": \"Seating_Capacity\",\n      \"properties\": {\n        \"dtype\": \"number\",\n        \"std\": 0,\n        \"min\": 4,\n        \"max\": 8,\n        \"num_unique_values\": 5,\n        \"samples\": [\n          7,\n          4,\n          8\n        ],\n        \"semantic_type\": \"\",\n        \"description\": \"\"\n      }\n    },\n    {\n      \"column\": \"Fuel_Type\",\n      \"properties\": {\n        \"dtype\": \"category\",\n        \"num_unique_values\": 3,\n        \"samples\": [\n          \"diesel\",\n          \"petrol\",\n          \"petrol+cng\"\n        ],\n        \"semantic_type\": \"\",\n        \"description\": \"\"\n      }\n    },\n    {\n      \"column\": \"Transmission\",\n      \"properties\": {\n        \"dtype\": \"category\",\n        \"num_unique_values\": 5,\n        \"samples\": [\n          \"5-Speed\",\n          \"4-Speed\",\n          \"6-Speed\"\n        ],\n        \"semantic_type\": \"\",\n        \"description\": \"\"\n      }\n    },\n    {\n      \"column\": \"Transmission_Type\",\n      \"properties\": {\n        \"dtype\": \"category\",\n        \"num_unique_values\": 2,\n        \"samples\": [\n          \"Manual\",\n          \"Automatic\"\n        ],\n        \"semantic_type\": \"\",\n        \"description\": \"\"\n      }\n    },\n    {\n      \"column\": \"Price\",\n      \"properties\": {\n        \"dtype\": \"number\",\n        \"std\": 367323,\n        \"min\": 188000,\n        \"max\": 2941000,\n        \"num_unique_values\": 585,\n        \"samples\": [\n          423000,\n          290000\n        ],\n        \"semantic_type\": \"\",\n        \"description\": \"\"\n      }\n    }\n  ]\n}"
            }
          },
          "metadata": {},
          "execution_count": 61
        }
      ]
    },
    {
      "cell_type": "code",
      "source": [
        "df1.isnull().sum() # no missing values"
      ],
      "metadata": {
        "colab": {
          "base_uri": "https://localhost:8080/",
          "height": 460
        },
        "id": "g5-ZP8lGye6m",
        "outputId": "2894f5da-a5c9-44c7-b598-d9c059210750"
      },
      "id": "g5-ZP8lGye6m",
      "execution_count": 62,
      "outputs": [
        {
          "output_type": "execute_result",
          "data": {
            "text/plain": [
              "Unnamed: 0           0\n",
              "Make                 0\n",
              "Make_Year            0\n",
              "Color                0\n",
              "Body_Type            0\n",
              "Mileage_Run          0\n",
              "No_of_Owners         0\n",
              "Seating_Capacity     0\n",
              "Fuel_Type            0\n",
              "Transmission         0\n",
              "Transmission_Type    0\n",
              "Price                0\n",
              "dtype: int64"
            ],
            "text/html": [
              "<div>\n",
              "<style scoped>\n",
              "    .dataframe tbody tr th:only-of-type {\n",
              "        vertical-align: middle;\n",
              "    }\n",
              "\n",
              "    .dataframe tbody tr th {\n",
              "        vertical-align: top;\n",
              "    }\n",
              "\n",
              "    .dataframe thead th {\n",
              "        text-align: right;\n",
              "    }\n",
              "</style>\n",
              "<table border=\"1\" class=\"dataframe\">\n",
              "  <thead>\n",
              "    <tr style=\"text-align: right;\">\n",
              "      <th></th>\n",
              "      <th>0</th>\n",
              "    </tr>\n",
              "  </thead>\n",
              "  <tbody>\n",
              "    <tr>\n",
              "      <th>Unnamed: 0</th>\n",
              "      <td>0</td>\n",
              "    </tr>\n",
              "    <tr>\n",
              "      <th>Make</th>\n",
              "      <td>0</td>\n",
              "    </tr>\n",
              "    <tr>\n",
              "      <th>Make_Year</th>\n",
              "      <td>0</td>\n",
              "    </tr>\n",
              "    <tr>\n",
              "      <th>Color</th>\n",
              "      <td>0</td>\n",
              "    </tr>\n",
              "    <tr>\n",
              "      <th>Body_Type</th>\n",
              "      <td>0</td>\n",
              "    </tr>\n",
              "    <tr>\n",
              "      <th>Mileage_Run</th>\n",
              "      <td>0</td>\n",
              "    </tr>\n",
              "    <tr>\n",
              "      <th>No_of_Owners</th>\n",
              "      <td>0</td>\n",
              "    </tr>\n",
              "    <tr>\n",
              "      <th>Seating_Capacity</th>\n",
              "      <td>0</td>\n",
              "    </tr>\n",
              "    <tr>\n",
              "      <th>Fuel_Type</th>\n",
              "      <td>0</td>\n",
              "    </tr>\n",
              "    <tr>\n",
              "      <th>Transmission</th>\n",
              "      <td>0</td>\n",
              "    </tr>\n",
              "    <tr>\n",
              "      <th>Transmission_Type</th>\n",
              "      <td>0</td>\n",
              "    </tr>\n",
              "    <tr>\n",
              "      <th>Price</th>\n",
              "      <td>0</td>\n",
              "    </tr>\n",
              "  </tbody>\n",
              "</table>\n",
              "</div><br><label><b>dtype:</b> int64</label>"
            ]
          },
          "metadata": {},
          "execution_count": 62
        }
      ]
    },
    {
      "cell_type": "code",
      "source": [
        "print(df1.info())\n",
        "print(df1.describe())"
      ],
      "metadata": {
        "colab": {
          "base_uri": "https://localhost:8080/"
        },
        "id": "ORI_4vfZys6-",
        "outputId": "f933481c-99fa-4555-ec42-e901f306c4da"
      },
      "id": "ORI_4vfZys6-",
      "execution_count": 65,
      "outputs": [
        {
          "output_type": "stream",
          "name": "stdout",
          "text": [
            "<class 'pandas.core.frame.DataFrame'>\n",
            "RangeIndex: 976 entries, 0 to 975\n",
            "Data columns (total 12 columns):\n",
            " #   Column             Non-Null Count  Dtype \n",
            "---  ------             --------------  ----- \n",
            " 0   Unnamed: 0         976 non-null    int64 \n",
            " 1   Make               976 non-null    object\n",
            " 2   Make_Year          976 non-null    int64 \n",
            " 3   Color              976 non-null    object\n",
            " 4   Body_Type          976 non-null    object\n",
            " 5   Mileage_Run        976 non-null    int64 \n",
            " 6   No_of_Owners       976 non-null    object\n",
            " 7   Seating_Capacity   976 non-null    int64 \n",
            " 8   Fuel_Type          976 non-null    object\n",
            " 9   Transmission       976 non-null    object\n",
            " 10  Transmission_Type  976 non-null    object\n",
            " 11  Price              976 non-null    int64 \n",
            "dtypes: int64(5), object(7)\n",
            "memory usage: 91.6+ KB\n",
            "None\n",
            "       Unnamed: 0    Make_Year   Mileage_Run  Seating_Capacity         Price\n",
            "count  976.000000   976.000000    976.000000        976.000000  9.760000e+02\n",
            "mean   488.500000  2016.963115  41571.195697          5.095287  7.410195e+05\n",
            "std    281.891232     2.818742  24390.995134          0.446224  3.673234e+05\n",
            "min      1.000000  2011.000000   1117.000000          4.000000  1.880000e+05\n",
            "25%    244.750000  2015.000000  22676.750000          5.000000  4.757500e+05\n",
            "50%    488.500000  2017.000000  37570.500000          5.000000  6.665000e+05\n",
            "75%    732.250000  2019.000000  57421.250000          5.000000  8.830000e+05\n",
            "max    976.000000  2022.000000  99495.000000          8.000000  2.941000e+06\n"
          ]
        }
      ]
    },
    {
      "cell_type": "code",
      "source": [
        "# Handling price ( log transformation)\n",
        "df1['Price'] = np.log1p(df1['Price'])  # log(1 + Price) to handle zero values\n",
        "print(df1.describe())\n",
        "# Looking at the mILEAGE_rUN VARIABLE WE COuld probabily do a log transformation too\n"
      ],
      "metadata": {
        "colab": {
          "base_uri": "https://localhost:8080/"
        },
        "id": "vfgWnfvozAke",
        "outputId": "6223ae3a-9ac2-4cfb-bb37-39f562b9c517"
      },
      "id": "vfgWnfvozAke",
      "execution_count": 68,
      "outputs": [
        {
          "output_type": "stream",
          "name": "stdout",
          "text": [
            "       Unnamed: 0    Make_Year   Mileage_Run  Seating_Capacity       Price\n",
            "count  976.000000   976.000000    976.000000        976.000000  976.000000\n",
            "mean   488.500000  2016.963115  41571.195697          5.095287    1.299477\n",
            "std    281.891232     2.818742  24390.995134          0.446224    0.008491\n",
            "min      1.000000  2011.000000   1117.000000          4.000000    1.274239\n",
            "25%    244.750000  2015.000000  22676.750000          5.000000    1.293146\n",
            "50%    488.500000  2017.000000  37570.500000          5.000000    1.299622\n",
            "75%    732.250000  2019.000000  57421.250000          5.000000    1.304878\n",
            "max    976.000000  2022.000000  99495.000000          8.000000    1.326002\n"
          ]
        }
      ]
    },
    {
      "cell_type": "code",
      "source": [
        "# let's summarize the Price column\n",
        "sum_price= df1['Price'].describe()\n",
        "print(sum_price)\n",
        "sns.kdeplot(df1['Price'], fill=True)\n",
        "plt.title(\"Kernel Density Plot of Car Prices\")\n",
        "plt.xlabel(\"Price (Log)\")\n",
        "plt.ylabel(\"Density\")\n",
        "plt.show()"
      ],
      "metadata": {
        "colab": {
          "base_uri": "https://localhost:8080/",
          "height": 628
        },
        "id": "i8sD9QRZ2wgA",
        "outputId": "0570419c-6870-4cf8-9ae6-433caa185687"
      },
      "id": "i8sD9QRZ2wgA",
      "execution_count": 75,
      "outputs": [
        {
          "output_type": "stream",
          "name": "stdout",
          "text": [
            "count    976.000000\n",
            "mean       1.299477\n",
            "std        0.008491\n",
            "min        1.274239\n",
            "25%        1.293146\n",
            "50%        1.299622\n",
            "75%        1.304878\n",
            "max        1.326002\n",
            "Name: Price, dtype: float64\n"
          ]
        },
        {
          "output_type": "display_data",
          "data": {
            "text/plain": [
              "<Figure size 640x480 with 1 Axes>"
            ],
            "image/png": "[encoded data removed]"
          },
          "metadata": {}
        }
      ]
    },
    {
      "cell_type": "code",
      "source": [
        "# Let's make a table grouped by the brand\n",
        "\n",
        "price_brand= df1.groupby('Make')['Price'].describe()\n",
        "print(price_brand)"
      ],
      "metadata": {
        "colab": {
          "base_uri": "https://localhost:8080/"
        },
        "id": "I655UK-s3wAl",
        "outputId": "944449cf-99a2-42e6-f24b-43769f2e9a15"
      },
      "id": "I655UK-s3wAl",
      "execution_count": 76,
      "outputs": [
        {
          "output_type": "stream",
          "name": "stdout",
          "text": [
            "               count      mean       std       min       25%       50%  \\\n",
            "Make                                                                     \n",
            "Chevrolet        6.0  1.289975  0.009377  1.281578  1.283075  1.286806   \n",
            "Datsun           3.0  1.283238  0.000741  1.282480  1.282876  1.283271   \n",
            "Ford            52.0  1.300689  0.004016  1.283271  1.298704  1.300748   \n",
            "Honda           73.0  1.301910  0.006329  1.285017  1.297008  1.302696   \n",
            "Hyundai        305.0  1.298706  0.007580  1.280054  1.293521  1.298793   \n",
            "Jeep             4.0  1.314359  0.001860  1.311764  1.313773  1.314782   \n",
            "Kia              8.0  1.315691  0.001354  1.312823  1.315345  1.315887   \n",
            "MG Motors       35.0  1.318253  0.001150  1.315457  1.317504  1.318093   \n",
            "Mahindra        18.0  1.308663  0.002902  1.302955  1.307825  1.308803   \n",
            "Maruti Suzuki  293.0  1.295846  0.007158  1.279112  1.290274  1.295132   \n",
            "Nissan           4.0  1.303861  0.007386  1.293115  1.301969  1.306666   \n",
            "Renault         68.0  1.298412  0.006325  1.283059  1.293115  1.298970   \n",
            "Skoda            5.0  1.303520  0.015012  1.291438  1.292742  1.295530   \n",
            "Tata            23.0  1.304994  0.011615  1.274239  1.302564  1.304583   \n",
            "Toyota          50.0  1.301881  0.006824  1.288079  1.295060  1.305107   \n",
            "Volkswagen      29.0  1.297399  0.003908  1.289836  1.295673  1.297845   \n",
            "\n",
            "                    75%       max  \n",
            "Make                               \n",
            "Chevrolet      1.295024  1.305066  \n",
            "Datsun         1.283617  1.283962  \n",
            "Ford           1.302743  1.308327  \n",
            "Honda          1.305535  1.314872  \n",
            "Hyundai        1.303888  1.317066  \n",
            "Jeep           1.315368  1.316107  \n",
            "Kia            1.316699  1.317056  \n",
            "MG Motors      1.319269  1.319622  \n",
            "Mahindra       1.309808  1.314025  \n",
            "Maruti Suzuki  1.302189  1.309903  \n",
            "Nissan         1.308558  1.308995  \n",
            "Renault        1.303071  1.309919  \n",
            "Skoda          1.311888  1.326002  \n",
            "Tata           1.314973  1.320299  \n",
            "Toyota         1.307578  1.308765  \n",
            "Volkswagen     1.300520  1.302814  \n"
          ]
        }
      ]
    },
    {
      "cell_type": "code",
      "source": [
        "# Now let's look at grouped KDE plot\n",
        "plt.figure(figsize= (12,6))\n",
        "sns.kdeplot(data=df1, x='Price', hue='Make', fill=True, alpha=0.6)\n",
        "plt.title(\"Kernel Density Plot of Price by Car Brand\")\n",
        "plt.xlabel(\"Price (Log Transformed)\")\n",
        "plt.ylabel(\"Density\")"
      ],
      "metadata": {
        "colab": {
          "base_uri": "https://localhost:8080/",
          "height": 581
        },
        "id": "Ok5Cexut4Ltt",
        "outputId": "30af0865-3022-4593-b41d-c9fca1842b8b"
      },
      "id": "Ok5Cexut4Ltt",
      "execution_count": 78,
      "outputs": [
        {
          "output_type": "execute_result",
          "data": {
            "text/plain": [
              "Text(0, 0.5, 'Density')"
            ]
          },
          "metadata": {},
          "execution_count": 78
        },
        {
          "output_type": "display_data",
          "data": {
            "text/plain": [
              "<Figure size 1200x600 with 1 Axes>"
            ],
            "image/png": "[encoded data removed]"
          },
          "metadata": {}
        }
      ]
    },
    {
      "cell_type": "code",
      "source": [
        "# finding out the most expensive makes\n",
        "ex = df1.groupby('Make')['Price'].mean().sort_values(ascending=False)\n",
        "print(\"Most Expensive Car Brands Based on Mean Price:\\n\",ex.head(5))"
      ],
      "metadata": {
        "colab": {
          "base_uri": "https://localhost:8080/"
        },
        "id": "4dHEoMTQ5c4q",
        "outputId": "6d464c9b-1b3a-4a23-c6ae-000398c1b2f4"
      },
      "id": "4dHEoMTQ5c4q",
      "execution_count": 83,
      "outputs": [
        {
          "output_type": "stream",
          "name": "stdout",
          "text": [
            "Most Expensive Car Brands Based on Mean Price:\n",
            " Make\n",
            "MG Motors    1.318253\n",
            "Kia          1.315691\n",
            "Jeep         1.314359\n",
            "Mahindra     1.308663\n",
            "Tata         1.304994\n",
            "Name: Price, dtype: float64\n"
          ]
        }
      ]
    },
    {
      "cell_type": "code",
      "source": [
        "# Now let's split data fro Train/Test\n",
        "from sklearn.model_selection import train_test_split\n",
        "\n",
        "x1= df1.drop(\"Price\", axis=1) # split data but only including the features\n",
        "y1= df1['Price']\n",
        "\n",
        "X_train, X_test, y_train, y_test = train_test_split(x1, y1, test_size=0.2, random_state=42)\n"
      ],
      "metadata": {
        "id": "eMy_wnyR5p-O"
      },
      "id": "eMy_wnyR5p-O",
      "execution_count": 85,
      "outputs": []
    },
    {
      "cell_type": "markdown",
      "source": [
        "First model"
      ],
      "metadata": {
        "id": "rLGyuTAaPNWm"
      },
      "id": "rLGyuTAaPNWm"
    },
    {
      "cell_type": "code",
      "source": [
        "# Defining the data types\n",
        "numeric_features = ['Seating_Capacity', 'Mileage_Run', 'Make_Year']\n",
        "categorical_features = ['Color', 'Body_Type', 'Make', 'Fuel_Type', 'Transmission_Type']"
      ],
      "metadata": {
        "id": "03mvtx6k68yH"
      },
      "id": "03mvtx6k68yH",
      "execution_count": 86,
      "outputs": []
    },
    {
      "cell_type": "code",
      "source": [
        "# USED CHATGTP TO HELP ME DEBUG\n",
        "from sklearn.metrics import r2_score, mean_squared_error\n",
        "X_train_num = X_train[numeric_features]  # Use numeric columns for training\n",
        "X_test_num = X_test[numeric_features]    # Use numeric columns for testing\n",
        "\n",
        "# Train Linear Regression Model\n",
        "model_num = LinearRegression()\n",
        "model_num.fit(X_train_num, y_train)\n",
        "\n",
        "# Predict\n",
        "y_train_pred_num = model_num.predict(X_train_num)\n",
        "y_test_pred_num = model_num.predict(X_test_num)\n",
        "\n",
        "# Evaluate Performance\n",
        "train_r2 = r2_score(y_train, y_train_pred_num)\n",
        "test_r2 = r2_score(y_test, y_test_pred_num)\n",
        "train_rmse = np.sqrt(mean_squared_error(y_train, y_train_pred_num))\n",
        "test_rmse = np.sqrt(mean_squared_error(y_test, y_test_pred_num))\n",
        "\n",
        "print(\"Numerical Model Performance:\")\n",
        "print(\"Train R²:\", r2_score(y_train, y_train_pred_num))\n",
        "print(\"Test R²:\", r2_score(y_test, y_test_pred_num))\n",
        "print(\"Train RMSE:\", np.sqrt(mean_squared_error(y_train, y_train_pred_num)))\n",
        "print(\"Test RMSE:\", np.sqrt(mean_squared_error(y_test, y_test_pred_num)))"
      ],
      "metadata": {
        "colab": {
          "base_uri": "https://localhost:8080/"
        },
        "id": "iX3DH0pC7GuU",
        "outputId": "611df2b2-ba5e-4d76-cfff-4f16c1cf9ea3"
      },
      "id": "iX3DH0pC7GuU",
      "execution_count": 113,
      "outputs": [
        {
          "output_type": "stream",
          "name": "stdout",
          "text": [
            "Numerical Model Performance:\n",
            "Train R²: 0.42326278458069777\n",
            "Test R²: 0.3832272156401485\n",
            "Train RMSE: 0.0064812159985238055\n",
            "Test RMSE: 0.006491959315459091\n"
          ]
        }
      ]
    },
    {
      "cell_type": "markdown",
      "source": [
        "Second model"
      ],
      "metadata": {
        "id": "_Q9SVuQsPv9p"
      },
      "id": "_Q9SVuQsPv9p"
    },
    {
      "cell_type": "code",
      "source": [
        "# Model 2: Categorical Variables Only\n",
        "from sklearn.metrics import mean_absolute_error\n",
        "categorical_features = ['Body_Type', 'Fuel_Type', 'Transmission', 'Transmission_Type', 'Make', 'Color']\n",
        "\n",
        "X_train_cat = pd.get_dummies(X_train[categorical_features], drop_first=True)\n",
        "X_test_cat = pd.get_dummies(X_test[categorical_features], drop_first=True)\n",
        "\n",
        "X_test_cat = X_test_cat.reindex(columns=X_train_cat.columns, fill_value=0)\n",
        "\n",
        "cat_model = LinearRegression()\n",
        "cat_model.fit(X_train_cat, y_train)\n",
        "\n",
        "y_train_pred_cat = cat_model.predict(X_train_cat)\n",
        "y_test_pred_cat = cat_model.predict(X_test_cat)\n",
        "\n",
        "train_rmse_cat = np.sqrt(mean_squared_error(y_train, y_train_pred_cat))\n",
        "test_rmse_cat = np.sqrt(mean_squared_error(y_test, y_test_pred_cat))\n",
        "train_mae_cat = mean_absolute_error(y_train, y_train_pred_cat)\n",
        "test_mae_cat = mean_absolute_error(y_test, y_test_pred_cat)\n",
        "\n",
        "\n",
        "print(train_rmse_cat)\n",
        "print(test_rmse_cat)\n",
        "print(train_mae_cat)\n",
        "print(test_mae_cat)"
      ],
      "metadata": {
        "colab": {
          "base_uri": "https://localhost:8080/"
        },
        "id": "Dg19yKAVKQuS",
        "outputId": "390b4c8a-c949-492a-9811-64936e8da0a6"
      },
      "id": "Dg19yKAVKQuS",
      "execution_count": 115,
      "outputs": [
        {
          "output_type": "stream",
          "name": "stdout",
          "text": [
            "0.0049593193130596635\n",
            "0.004902375202729785\n",
            "0.003961894959145959\n",
            "0.004005408939786075\n"
          ]
        }
      ]
    },
    {
      "cell_type": "markdown",
      "source": [
        "The model 2 had a little lower rmse and mae values than the model 1"
      ],
      "metadata": {
        "id": "UMJZ6zWaSDWU"
      },
      "id": "UMJZ6zWaSDWU"
    },
    {
      "cell_type": "markdown",
      "source": [
        "third model ( combing model 1 and model 2)"
      ],
      "metadata": {
        "id": "RSCgrz6iQstk"
      },
      "id": "RSCgrz6iQstk"
    },
    {
      "cell_type": "code",
      "source": [
        "x_train_combine= pd.concat([X_train_num, X_train_cat], axis=1)\n",
        "x_test_combine= pd.concat([X_test_num, X_test_cat], axis=1)\n",
        "\n",
        "# let's train the model\n",
        "\n",
        "model_c1= LinearRegression()\n",
        "model_c1.fit(x_train_combine, y_train)\n",
        "\n",
        "# let's predict now\n",
        "\n",
        "y_train_pred_combined = model_c1.predict(x_train_combine)\n",
        "y_test_pred_combined = model_c1.predict(x_test_combine)\n",
        "\n",
        "# let's just copy and past the exaluation performaces\n",
        "\n",
        "train_rmse_combined = np.sqrt(mean_squared_error(y_train, y_train_pred_combined))\n",
        "test_rmse_combined = np.sqrt(mean_squared_error(y_test, y_test_pred_combined))\n",
        "train_r2_combined = r2_score(y_train, y_train_pred_combined)\n",
        "test_r2_combined = r2_score(y_test, y_test_pred_combined)\n",
        "\n",
        "print(train_rmse_combined)\n",
        "print(test_rmse_combined)\n",
        "print(train_r2_combined)\n",
        "print(test_r2_combined)"
      ],
      "metadata": {
        "colab": {
          "base_uri": "https://localhost:8080/"
        },
        "id": "kpA_GmLaQsNi",
        "outputId": "ff79f080-3afb-4c14-ccb4-14c6b55cd2a5"
      },
      "id": "kpA_GmLaQsNi",
      "execution_count": 120,
      "outputs": [
        {
          "output_type": "stream",
          "name": "stdout",
          "text": [
            "0.0035612839068083495\n",
            "0.003557873070542328\n",
            "0.8258681637069498\n",
            "0.8147515753412995\n"
          ]
        }
      ]
    },
    {
      "cell_type": "markdown",
      "source": [
        "looks like the combined model did better because the r^2 value was higher ( it performs better) by 0.82 r^2 val"
      ],
      "metadata": {
        "id": "8oVzTONCRvMl"
      },
      "id": "8oVzTONCRvMl"
    },
    {
      "cell_type": "markdown",
      "source": [
        "Question 5- Polynomial features"
      ],
      "metadata": {
        "id": "_zPMq4nPSM6J"
      },
      "id": "_zPMq4nPSM6J"
    },
    {
      "cell_type": "code",
      "source": [
        "# importing necessary package\n",
        "from sklearn.preprocessing import PolynomialFeatures\n",
        "poly = PolynomialFeatures(degree=2)\n",
        "X_tr_poly = poly.fit_transform(X_train_num)\n",
        "X_te_poly = poly.transform(X_test_num)\n",
        "\n",
        "#train model\n",
        "\n",
        "model_p = LinearRegression()\n",
        "model_p.fit(X_tr_poly, y_train)\n",
        "\n",
        "# prediction\n",
        "\n",
        "y_pred_poly_train= model_p.predict(X_tr_poly)\n",
        "y_pred_poly_test= model_p.predict(X_te_poly)\n",
        "\n",
        "# copy and paste above performace metrics\n",
        "train_rmse_poly = np.sqrt(mean_squared_error(y_train, y_pred_poly_train))\n",
        "test_rmse_poly = np.sqrt(mean_squared_error(y_test, y_pred_poly_test))\n",
        "train_r2_poly = r2_score(y_train, y_pred_poly_train)\n",
        "test_r2_poly = r2_score(y_test, y_pred_poly_test)\n",
        "\n",
        "print(train_rmse_poly)\n",
        "print(test_rmse_poly)\n",
        "print(train_r2_poly)\n",
        "print(test_r2_poly)"
      ],
      "metadata": {
        "colab": {
          "base_uri": "https://localhost:8080/"
        },
        "id": "GAPJUL4mSOZ_",
        "outputId": "c12dbb50-e19b-4c85-f1ba-77fa1978ca1a"
      },
      "id": "GAPJUL4mSOZ_",
      "execution_count": 140,
      "outputs": [
        {
          "output_type": "stream",
          "name": "stdout",
          "text": [
            "0.006283504469437052\n",
            "0.006292716781255822\n",
            "0.45791318751316157\n",
            "0.42050459809037866\n"
          ]
        }
      ]
    },
    {
      "cell_type": "markdown",
      "source": [
        "As we incresase the polynomical degree it looks like the rmse increase for both train and test and r2 decreases ( less correlation present) at degree 18 it looks like r^2 for test became negative. In general this model does ok, but more generealized and not focused on spcefic features involved"
      ],
      "metadata": {
        "id": "tJCPImqITuaf"
      },
      "id": "tJCPImqITuaf"
    },
    {
      "cell_type": "markdown",
      "source": [
        "Question 6 (from question 3)"
      ],
      "metadata": {
        "id": "jz6J5LFqUfuP"
      },
      "id": "jz6J5LFqUfuP"
    },
    {
      "cell_type": "code",
      "source": [
        "# let's do the comiined one\n",
        "import matplotlib.pyplot as plt\n",
        "\n",
        "plt.figure(figsize=(10,6))\n",
        "plt.scatter(y_test, y_test_pred_combined)\n",
        "plt.plot([min(y_test), max(y_test)], [min(y_test), max(y_test)], color='red', lw=2)\n",
        "plt.xlabel('True Values')\n",
        "plt.ylabel('Predicted Values')\n",
        "plt.title('True vs Predicted Car Prices')\n",
        "plt.show()"
      ],
      "metadata": {
        "colab": {
          "base_uri": "https://localhost:8080/",
          "height": 564
        },
        "id": "WNqe3IUAUj1j",
        "outputId": "76b3a572-1edd-46d5-a9ae-50131342cffa"
      },
      "id": "WNqe3IUAUj1j",
      "execution_count": 143,
      "outputs": [
        {
          "output_type": "display_data",
          "data": {
            "text/plain": [
              "<Figure size 1000x600 with 1 Axes>"
            ],
            "image/png": "[encoded data removed]"
          },
          "metadata": {}
        }
      ]
    },
    {
      "cell_type": "markdown",
      "source": [
        "Yes, the predicted mode values do genrall line up"
      ],
      "metadata": {
        "id": "O6m_rASDVZZR"
      },
      "id": "O6m_rASDVZZR"
    },
    {
      "cell_type": "code",
      "source": [
        "#heres evaluating accruacy using residual plots\n",
        "res= y_test - y_test_pred_combined # comparing the y test and seeing how far it was from the comiined model test pred\n",
        "sns.kdeplot(res, fill=True)\n",
        "\n"
      ],
      "metadata": {
        "colab": {
          "base_uri": "https://localhost:8080/",
          "height": 472
        },
        "id": "WafeUo9KVBJ3",
        "outputId": "aab4188a-454b-4df4-add8-ddc58c19a8d3"
      },
      "id": "WafeUo9KVBJ3",
      "execution_count": 144,
      "outputs": [
        {
          "output_type": "execute_result",
          "data": {
            "text/plain": [
              "<Axes: xlabel='Price', ylabel='Density'>"
            ]
          },
          "metadata": {},
          "execution_count": 144
        },
        {
          "output_type": "display_data",
          "data": {
            "text/plain": [
              "<Figure size 640x480 with 1 Axes>"
            ],
            "image/png": "[encoded data removed]"
          },
          "metadata": {}
        }
      ]
    },
    {
      "cell_type": "markdown",
      "source": [
        "yes the kde plot does looke like a bell-shape aroung 0."
      ],
      "metadata": {
        "id": "LxsasmMkVvcf"
      },
      "id": "LxsasmMkVvcf"
    },
    {
      "cell_type": "markdown",
      "id": "aedcd486",
      "metadata": {
        "id": "aedcd486"
      },
      "source": [
        "**Q4.** This question refers to the `heart_hw.csv` data. It contains three variables:\n",
        "\n",
        "  - `y`: Whether the individual survived for three years, coded 0 for death and 1 for survival\n",
        "  - `age`: Patient's age\n",
        "  - `transplant`: `control` for not receiving a transplant and `treatment` for receiving a transplant\n",
        "\n",
        "Since a heart transplant is a dangerous operation and even people who successfully get heart transplants might suffer later complications, we want to look at whether a group of transplant recipients tends to survive longer than a comparison group who does not get the procedure.\n",
        "\n",
        "1. Compute (a) the proportion of people who survive in the control group who do not receive a transplant, and (b) the difference between the proportion of people who survive in the treatment group and the proportion of people who survive in the control group. In a randomized controlled trial, this is called the **average treatment effect**.\n",
        "2. Regress `y` on `transplant` using a linear model with a constant. How does the constant/intercept of the regression and the coefficient on transplant compare to your answers from part 1? Explain the relationship clearly.\n",
        "3. We'd like to include `age` in the regression, since it's reasonable to expect that older patients are less likely to survive an extensive surgery like a heart transplant. Regress `y` on a constant, transplant, and age. How does the intercept change?\n",
        "4. Build a more flexible model that allows for non-linear age effects and interactions between age and treatment. Use a train-test split to validate your model. Estimate your best model, predict the survival probability by age, and plot your results conditional on receiving a transplant and not. Describe what you see.\n",
        "5. Imagine someone suggests using these kinds of models to select who receives organ transplants; perhaps the CDC or NIH starts using a scoring algorithm to decide who is contacted about a potential organ. What are your concerns about how it is built and how it is deployed?"
      ]
    },
    {
      "cell_type": "markdown",
      "id": "7bd15c6b-4c7c-4230-a199-e03e1054ec6a",
      "metadata": {
        "id": "7bd15c6b-4c7c-4230-a199-e03e1054ec6a"
      },
      "source": [
        "**Q5.** This is a question about linear regression. The outcome is whether a defendant is held pre-trial in the Virginia justice system. We would like to understand how that outcome is predicted by characteristics of the defendant, particularly race. Let's be very careful/clear: We aren't saying anyone *should* be held without bond or asserting that people with different demographic variables *should* be more likely to be held, but instead trying to predict whether people with different characteristics *are empirically more likely* to be held without bond, given the available information. This is the first step we would take in investigating whether a system is fair, or how large the disparities are: Does it treat people with similar observable characteristics similarly, or not? We are going to look at a common question: Are Black defendants treated differently from white or Asian ones? (There are Native American defendants, but there are 11 in total, which is such a small number of observations that is difficult to clearly say anything about how this group is treated relative to the others.)\n",
        "\n",
        "The variables in the data are:\n",
        "\n",
        "  - `held_wo_bail`: Whether a defendant is held without bail before trial (Boolean logical)\n",
        "  - `race`, `sex`: Categorical demographic variables\n",
        "  - `is_poor`: Whether the defendant is classified as indigent\n",
        "  - `prior_F`, `prior_M`: The number of prior felony and misdemeanor arrests\n",
        "  - `case_type`: A categorical variable indicating a misdemeanor `M` or felony `F` or infraction `I` or special case `S`\n",
        "  - `age`: Defendant's age\n",
        "  - `bond`, `bond_NA`, `bond_type`: The amount of any bond, whether it is missing, and the type\n",
        "  - `sentence`, `sentence_NA`, `sentence_type`: The length of any sentence, whether it is missing, and the type\n",
        "\n",
        "1. Load the `pretrial_data.csv` data. Notice that there are `nan`s, but the data are relatively clean. Because there are `.nan`s among variables you won't use, you'll want to narrow down your analysis to the relevant variables before dropping or imputing missing values.\n",
        "2. Create a dummy variable indicating that the defendant is Black.\n",
        "3. Regress `held` on `Black`. What is the slope coefficient Interpret the coefficient on the Black dummy variable: How much more likely is a black person to be held without bail? What is the $R^2$ of the model?\n",
        "4. Before doing this question, please think for a few minutes about how to make the process of running the following regressions as efficient as possible, before jumping into writing code. Repeat part 2, for the following specifications, keeping track of the coefficient on the Black dummy variable each time:\n",
        "      - `held` on `Black` and `sex`\n",
        "      - `held` on `Black` and `sex` and `is_poor`\n",
        "      - `held` on `Black` and `sex` and `is_poor` and `prior_F`\n",
        "      - `held` on `Black` and `sex` and `is_poor` and `prior_F` and `case_type`\n",
        "What happens to the coefficient on the Black dummy variable as you include more regressors/features/controls in the regression? Explain your findings.\n",
        "5. Suppose we don't want to see just `Black` and `sex`, but `Black` interacted with `sex`: Are Black men and Black women treated systemically differently from the rest of the population? Implement this in a regression, and explain your findings.\n",
        "6. Imagine someone argued we should use these kinds of models to help a judge or magistrate make bail decisions (you could obviously go back and make this kind of model for the bond and sentence variables, then deploy it on new cases to predict what their bond and sentence values would be). What concerns would you have? Do you think society should be using data-driven and automated tools like that? Explain your concerns clearly."
      ]
    },
    {
      "cell_type": "markdown",
      "id": "ca1cfba3",
      "metadata": {
        "vscode": {
          "languageId": "plaintext"
        },
        "id": "ca1cfba3"
      },
      "source": [
        "**Q6.** Let's explore multiple linear regression in a two-variable case, to build more intuition about what is happening.\n",
        "\n",
        "Suppose the model is\n",
        "$$\n",
        "\\hat{y}_i = b_0 + b_1 z_{i1} + b_2 z_{i2}\n",
        "$$\n",
        "Assume that $z_{ij}$ is centered or de-meaned, so that $z_{ij} = x_{ij} - m_j$ where $m_j$ is the mean of variable $j$ and $x_{ij}$ is the original value of variable $j$ for observation $i$. Notice that this implies\n",
        "$$\n",
        "\\dfrac{1}{N} \\sum_{i=1}^N z_{ij} = 0\n",
        "$$\n",
        "which will simplify your calculations below substantially!\n",
        "\n",
        "1. Write down the SSE for this model.\n",
        "2. Take partial derivatives with respect to $b_0$, $b_1$, and $b_2$.\n",
        "3. Verify that the average error is zero and $e \\cdot z =0$ at the optimum, just as in the single linear regression case.\n",
        "4. Show that the optimal intercept is $b_0^* = \\bar{y}$. Eliminate $b_0^*$ from the remaining equations, and focus on $b_1$ and $b_2$.\n",
        "5. Write your results as a matrix equation in the form \"$Ab=C$\". These are called the **normal equations**.\n",
        "6. Divide both sides by $N$ and substitute $z_{ij} = x_{ij} - m_j$ back into your normal equations for $x_{ij}$. What is the matrix $A$? What is the vector $C$? Explain the intuition of your discovery."
      ]
    },
    {
      "cell_type": "markdown",
      "id": "547d5828",
      "metadata": {
        "id": "547d5828"
      },
      "source": [
        "**Q7.** In class, we showed that for the single linear regression model,\n",
        "\\begin{alignat*}{3}\n",
        "a^* &=& \\bar{y} \\\\\n",
        "b^* &=& \\dfrac{\\sum_{i=1}^N(y_i - \\bar{y})(x_i-\\bar{x})}{\\sum_{i=1}^N (x_i-\\bar{x})^2},\n",
        "\\end{alignat*}\n",
        "\n",
        "1. When will $b^*$ be large or small, depending on the relationship between $X$ and $Y$ and the variance of $X$?\n",
        "2. Suppose you have measurement error in $X$ which artificially inflates its variance (e.g. bad data cleaning). We'll model this as saying the \"real\" value of $X$ for observation $i$ is $z_i$, but we observe $x_i = z_i + n_i$, where $n_i$ is the added noise. Does this affect the intercept of the regression? What happens to the $b^*$ coefficient relative to a noise-less model? How will affect your ability to predict? (This phenomenon is called **attenuation**.)\n",
        "3. Suppose the noise $n_i$ is independent of $z_i$ and $y_i$, so that (approximately)\n",
        "$$\n",
        "\\dfrac{1}{N} \\sum_{i=1}^N (y_i - \\bar{y})(n_i - \\bar{n}) =0, \\quad \\dfrac{1}{N} \\sum_{i=1}^N (z_i - \\bar{z})(n_i - \\bar{n}) =0.\n",
        "$$\n",
        "and that the mean of the bias is zero, so that\n",
        "$$\n",
        "\\dfrac{1}{N} \\sum_{i=1}^N n_i = 0.\n",
        "$$\n",
        "In this case, the noise $n_i$ is zero on average and independent of the values of $x_i$ and $y_i$: It's just measurement error or lazy data cleaning.\n",
        "Explain the intuition of your result.\n",
        "\n",
        "4. How does attenuation factor into the cost-benefit analysis of gathering higher quality data or cleaning it more carefully?"
      ]
    },
    {
      "cell_type": "markdown",
      "id": "b67478ac-ad78-4a44-9720-583c71b8da14",
      "metadata": {
        "id": "b67478ac-ad78-4a44-9720-583c71b8da14"
      },
      "source": [
        "**Q8.**\n",
        "1. Find a dataset on a topic you're interested in. Some easy options are data.gov, kaggle.com, and data.world.\n",
        "2. Clean the data and do some exploratory data analysis on key variables that interest you. Pick a particular target/outcome variable and features/predictors.\n",
        "3. Split the sample into an ~80% training set and a ~20% test set.\n",
        "4. Run a few regressions of your target/outcome variable on a variety of features/predictors. Compute the SSE on the test set.\n",
        "5. Which model performed the best, and why?\n",
        "6. What did you learn?"
      ]
    },
    {
      "cell_type": "markdown",
      "id": "fcf48562",
      "metadata": {
        "id": "fcf48562"
      },
      "source": [
        "**Q9.** There is a folder called `heart_failure` which contains reasonably detailed health data on patients and whether they die of congestive heart failure.\n",
        "\n",
        "1. Load the data and perform an 80/20-train/test split.\n",
        "2. Using dummy/one-hot-encoded variables and transformations of the numeric features, build the best model you can. **But**, do not delete code chunks or revise your work substantially as you experiment. Just keep moving forward with your ideas and experiments.\n",
        "3. When you're done, scroll through your notebook. What worked and what didn't? Does your code have intention, or are you randomly experimenting? If you had to do this again, what might you do differently to get to a good model faster?\n"
      ]
    },
    {
      "cell_type": "markdown",
      "id": "0125d03b",
      "metadata": {
        "vscode": {
          "languageId": "plaintext"
        },
        "id": "0125d03b"
      },
      "source": [
        "**Q10.** Let's look at a cousin of Linear Regression, called **kernel regression** or **local constant least squares** or **Nadaraya-Watson Estimator**.\n",
        "\n",
        "We derived the OLS estimator for single linear regression by minimizing\n",
        "$$\n",
        "SSE(b_0, b_1) = \\frac{1}{N}\\sum_{i=1}^N (y_i - b_0 - b_1 x_i)^2\n",
        "$$\n",
        "with solution\n",
        "$$\n",
        "\\hat{b}_0 = \\bar{y} - \\hat{b}_1 \\bar{x}, \\quad \\hat{b}_1 = \\dfrac{\\frac{1}{N} \\sum_{i=1}^N (x_i-\\bar{x})(y_i - \\bar{y})}{s_x^2}.\n",
        "$$\n",
        "\n",
        "When you step back and think about it, this is a bit weird: The algorithm is computing sample means, variances, and covariances, and using those to create a predictive model. The data themselves arguably vanish from the solution. This is elegant, this is strange.\n",
        "\n",
        "Instead, let $k(z)$ be a kernel function, such as the Gaussian\n",
        "$$\n",
        "k(z) = \\frac{1}{\\sqrt{2\\pi}} e^{-z^2/2}\n",
        "$$\n",
        "or uniform\n",
        "$$\n",
        "k(z) = \\begin{cases}\n",
        "1/2, & |z| \\le \\frac{1}{2}\\\\\n",
        "0, & \\text{otherwise.}\n",
        "\\end{cases}\n",
        "$$\n",
        "We'll instead minimize, or each predictor value $x$,\n",
        "$$\n",
        "SSE(\\hat{y}(x)) = \\dfrac{1}{N} \\sum_{i=1}^N \\left\\lbrace y_i - \\hat{y}(x)\\right\\rbrace^2 \\dfrac{1}{h} k \\left( \\dfrac{x-x_i}{h} \\right).\n",
        "$$\n",
        "\n",
        "1. Show that the optimal predictor is\n",
        "$$\n",
        "\\hat{y}(x) = \\dfrac{ \\frac{1}{Nh} \\sum_{i=1}^N  y_i k \\left( \\dfrac{x-x_i}{h} \\right) }{\\frac{1}{Nh} \\sum_{i=1}^N k \\left(  \\dfrac{x-x_i}{h} \\right)}\n",
        "$$\n",
        "This has many names, but let's call it the local constant least squares (LCLS) estimator, as opposed to ordinary least squares (OLS).\n",
        "\n",
        "2. Compare and contrast LCLS with both OLS and $k$-Nearest Neighbor as a regression algorithm.\n",
        "\n",
        "3. Write a function or class that implements the LCLS estimator for a single predictor variable $x$. For a default bandwidth $h$, you can use the maximum of the Silverman plug-ins for estimating kernel densities for $X$ and $Y$:\n",
        "$$\n",
        "h_y = 1.06 \\times s_y^{-1/5}, \\quad h_x = 1.06 \\times s_x^{-1/5},\n",
        "$$\n",
        "$$\n",
        "h = \\max \\{ h_y, h_x \\}.\n",
        "$$\n",
        "For the kernel, you can hard-code the uniform, Gaussian, or Epanechnikov, or make it a parameter the user can adjust with a default choice.\n",
        "\n",
        "4. For one of the datasets available for the homework, use your LCLS estimator from part 3 to predict values $\\hat{y}(x_i)$ for each datapoint $x_i$. Plot your estimator $\\hat{y}$ as a line over a scatterplot of the data $\\{(x_i,y_i)\\}_{i=1}^N$. Tune the bandwidth until you\n",
        "\n",
        "5. Conceptually, how would you extend this analysis to a vector of predictors, $x = (x_1, ..., x_L)$ instead of just one explanatory variable $x$?\n"
      ]
    }
  ],
  "metadata": {
    "colab": {
      "provenance": []
    },
    "kernelspec": {
      "display_name": "Python 3 (ipykernel)",
      "language": "python",
      "name": "python3"
    },
    "language_info": {
      "codemirror_mode": {
        "name": "ipython",
        "version": 3
      },
      "file_extension": ".py",
      "mimetype": "text/x-python",
      "name": "python",
      "nbconvert_exporter": "python",
      "pygments_lexer": "ipython3",
      "version": "3.12.2"
    }
  },
  "nbformat": 4,
  "nbformat_minor": 5
}
